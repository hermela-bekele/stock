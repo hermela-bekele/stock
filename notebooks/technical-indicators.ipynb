{
 "cells": [
  {
   "cell_type": "code",
   "execution_count": 2,
   "metadata": {},
   "outputs": [
    {
     "name": "stdout",
     "output_type": "stream",
     "text": [
      "         Date      Open      High       Low     Close  Adj Close     Volume  \\\n",
      "0  1980-12-12  0.128348  0.128906  0.128348  0.128348   0.098943  469033600   \n",
      "1  1980-12-15  0.122210  0.122210  0.121652  0.121652   0.093781  175884800   \n",
      "2  1980-12-16  0.113281  0.113281  0.112723  0.112723   0.086898  105728000   \n",
      "3  1980-12-17  0.115513  0.116071  0.115513  0.115513   0.089049   86441600   \n",
      "4  1980-12-18  0.118862  0.119420  0.118862  0.118862   0.091630   73449600   \n",
      "\n",
      "   Dividends  Stock Splits  \n",
      "0        0.0           0.0  \n",
      "1        0.0           0.0  \n",
      "2        0.0           0.0  \n",
      "3        0.0           0.0  \n",
      "4        0.0           0.0  \n",
      "<class 'pandas.core.frame.DataFrame'>\n",
      "RangeIndex: 10998 entries, 0 to 10997\n",
      "Data columns (total 9 columns):\n",
      " #   Column        Non-Null Count  Dtype  \n",
      "---  ------        --------------  -----  \n",
      " 0   Date          10998 non-null  object \n",
      " 1   Open          10998 non-null  float64\n",
      " 2   High          10998 non-null  float64\n",
      " 3   Low           10998 non-null  float64\n",
      " 4   Close         10998 non-null  float64\n",
      " 5   Adj Close     10998 non-null  float64\n",
      " 6   Volume        10998 non-null  int64  \n",
      " 7   Dividends     10998 non-null  float64\n",
      " 8   Stock Splits  10998 non-null  float64\n",
      "dtypes: float64(7), int64(1), object(1)\n",
      "memory usage: 773.4+ KB\n",
      "None\n"
     ]
    }
   ],
   "source": [
    "import pandas as pd\n",
    "data = pd.read_csv('AAPL_historical_data.csv')\n",
    "print(data.head())\n",
    "print(data.info())"
   ]
  },
  {
   "cell_type": "code",
   "execution_count": null,
   "metadata": {},
   "outputs": [],
   "source": [
    "import pandas as pd\n",
    "\n",
    "data = pd.read_csv('AAPL_historical_data.csv')\n",
    "\n",
    "# claculate simple moving average\n",
    "data[\"SMA_20\"] = data[\"Close\"].rolling(window=20).mean()\n"
   ]
  },
  {
   "cell_type": "code",
   "execution_count": 6,
   "metadata": {},
   "outputs": [],
   "source": [
    "# calculate exponential moving average\n",
    "data[\"EMA_20\"] = data[\"Close\"].ewm(span=20, adjust=False).mean()"
   ]
  },
  {
   "cell_type": "code",
   "execution_count": 7,
   "metadata": {},
   "outputs": [],
   "source": [
    "# calculate daily price changes\n",
    "delta = data[\"Close\"].diff()\n",
    "\n",
    "# calculate gaines and losses\n",
    "gain = delta.where(delta > 0, 0)\n",
    "loss = delta.where(delta < 0, 0)\n",
    "\n",
    "# calculate average gains and lossess\n",
    "window_length = 14\n",
    "avg_gain = gain.rolling(window=window_length, min_periods=1).mean()\n",
    "avg_loss = loss.rolling(window=window_length, min_periods=1).mean()\n",
    "\n",
    "# calculate relative strength index\n",
    "rs = avg_gain / avg_loss\n",
    "data[\"RSI_14\"] = 100 - (100 / (1 + rs))"
   ]
  },
  {
   "cell_type": "code",
   "execution_count": 10,
   "metadata": {},
   "outputs": [],
   "source": [
    "# calculate moving average convergence divergence\n",
    "ema_fast = data[\"Close\"].ewm(span=12, adjust=False).mean()\n",
    "ema_slow = data[\"Close\"].ewm(span=26, adjust=False).mean()\n",
    "\n",
    "data[\"MACD\"] = ema_fast - ema_slow\n",
    "data[\"MACD_Signal\"] = data[\"MACD\"].ewm(span=9, adjust=False).mean()\n",
    "data[\"MACD_Hist\"] = data[\"MACD\"] - data[\"MACD_Signal\"]"
   ]
  },
  {
   "cell_type": "code",
   "execution_count": 12,
   "metadata": {},
   "outputs": [
    {
     "name": "stdout",
     "output_type": "stream",
     "text": [
      "         Date     Close  SMA_20    EMA_20     RSI_14      MACD  MACD_Signal  \\\n",
      "0  1980-12-12  0.128348     NaN  0.128348        NaN  0.000000     0.000000   \n",
      "1  1980-12-15  0.121652     NaN  0.127710   0.000000 -0.000534    -0.000107   \n",
      "2  1980-12-16  0.112723     NaN  0.126283   0.000000 -0.001659    -0.000417   \n",
      "3  1980-12-17  0.115513     NaN  0.125257 -21.737417 -0.002299    -0.000793   \n",
      "4  1980-12-18  0.118862     NaN  0.124648 -64.716523 -0.002506    -0.001136   \n",
      "\n",
      "   MACD_Hist  \n",
      "0   0.000000  \n",
      "1  -0.000427  \n",
      "2  -0.001242  \n",
      "3  -0.001505  \n",
      "4  -0.001370  \n"
     ]
    }
   ],
   "source": [
    "# display the updated dataset with the technical indicators\n",
    "print(data[[\"Date\", \"Close\", \"SMA_20\", \"EMA_20\", \"RSI_14\", \"MACD\", \"MACD_Signal\", \"MACD_Hist\"]].head())"
   ]
  },
  {
   "cell_type": "code",
   "execution_count": 13,
   "metadata": {},
   "outputs": [
    {
     "name": "stdout",
     "output_type": "stream",
     "text": [
      "         Date      Open      High       Low     Close  Adj Close      Volume  \\\n",
      "0  1997-05-15  0.121875  0.125000  0.096354  0.097917   0.097917  1443120000   \n",
      "1  1997-05-16  0.098438  0.098958  0.085417  0.086458   0.086458   294000000   \n",
      "2  1997-05-19  0.088021  0.088542  0.081250  0.085417   0.085417   122136000   \n",
      "3  1997-05-20  0.086458  0.087500  0.081771  0.081771   0.081771   109344000   \n",
      "4  1997-05-21  0.081771  0.082292  0.068750  0.071354   0.071354   377064000   \n",
      "\n",
      "   Dividends  Stock Splits  \n",
      "0        0.0           0.0  \n",
      "1        0.0           0.0  \n",
      "2        0.0           0.0  \n",
      "3        0.0           0.0  \n",
      "4        0.0           0.0  \n",
      "<class 'pandas.core.frame.DataFrame'>\n",
      "RangeIndex: 6846 entries, 0 to 6845\n",
      "Data columns (total 9 columns):\n",
      " #   Column        Non-Null Count  Dtype  \n",
      "---  ------        --------------  -----  \n",
      " 0   Date          6846 non-null   object \n",
      " 1   Open          6846 non-null   float64\n",
      " 2   High          6846 non-null   float64\n",
      " 3   Low           6846 non-null   float64\n",
      " 4   Close         6846 non-null   float64\n",
      " 5   Adj Close     6846 non-null   float64\n",
      " 6   Volume        6846 non-null   int64  \n",
      " 7   Dividends     6846 non-null   float64\n",
      " 8   Stock Splits  6846 non-null   float64\n",
      "dtypes: float64(7), int64(1), object(1)\n",
      "memory usage: 481.5+ KB\n",
      "None\n",
      "         Date     Close  SMA_20    EMA_20  RSI_14      MACD  MACD_Signal  \\\n",
      "0  1997-05-15  0.097917     NaN  0.097917     NaN  0.000000     0.000000   \n",
      "1  1997-05-16  0.086458     NaN  0.096826     0.0 -0.000914    -0.000183   \n",
      "2  1997-05-19  0.085417     NaN  0.095739     0.0 -0.001703    -0.000487   \n",
      "3  1997-05-20  0.081771     NaN  0.094409     0.0 -0.002592    -0.000908   \n",
      "4  1997-05-21  0.071354     NaN  0.092213     0.0 -0.004091    -0.001544   \n",
      "\n",
      "   MACD_Hist  \n",
      "0   0.000000  \n",
      "1  -0.000731  \n",
      "2  -0.001216  \n",
      "3  -0.001684  \n",
      "4  -0.002546  \n"
     ]
    }
   ],
   "source": [
    "import pandas as pd\n",
    "data = pd.read_csv('AMZN_historical_data.csv')\n",
    "print(data.head())\n",
    "print(data.info())\n",
    "\n",
    "# claculate simple moving average\n",
    "data[\"SMA_20\"] = data[\"Close\"].rolling(window=20).mean()\n",
    "\n",
    "# calculate exponential moving average\n",
    "data[\"EMA_20\"] = data[\"Close\"].ewm(span=20, adjust=False).mean()\n",
    "\n",
    "# calculate daily price changes\n",
    "delta = data[\"Close\"].diff()\n",
    "\n",
    "# calculate gaines and losses\n",
    "gain = delta.where(delta > 0, 0)\n",
    "loss = delta.where(delta < 0, 0)\n",
    "\n",
    "# calculate average gains and lossess\n",
    "window_length = 14\n",
    "avg_gain = gain.rolling(window=window_length, min_periods=1).mean()\n",
    "avg_loss = loss.rolling(window=window_length, min_periods=1).mean()\n",
    "\n",
    "# calculate relative strength index\n",
    "rs = avg_gain / avg_loss\n",
    "data[\"RSI_14\"] = 100 - (100 / (1 + rs))\n",
    "\n",
    "# calculate moving average convergence divergence\n",
    "ema_fast = data[\"Close\"].ewm(span=12, adjust=False).mean()\n",
    "ema_slow = data[\"Close\"].ewm(span=26, adjust=False).mean()\n",
    "\n",
    "data[\"MACD\"] = ema_fast - ema_slow\n",
    "data[\"MACD_Signal\"] = data[\"MACD\"].ewm(span=9, adjust=False).mean()\n",
    "data[\"MACD_Hist\"] = data[\"MACD\"] - data[\"MACD_Signal\"]\n",
    "\n",
    "# display the updated dataset with the technical indicators\n",
    "print(data[[\"Date\", \"Close\", \"SMA_20\", \"EMA_20\", \"RSI_14\", \"MACD\", \"MACD_Signal\", \"MACD_Hist\"]].head())"
   ]
  },
  {
   "cell_type": "code",
   "execution_count": 15,
   "metadata": {},
   "outputs": [
    {
     "name": "stdout",
     "output_type": "stream",
     "text": [
      "          Date     Close   14-high    14-low         %k         %D\n",
      "0   1980-12-12  0.128348       NaN       NaN        NaN        NaN\n",
      "1   1980-12-15  0.121652       NaN       NaN        NaN        NaN\n",
      "2   1980-12-16  0.112723       NaN       NaN        NaN        NaN\n",
      "3   1980-12-17  0.115513       NaN       NaN        NaN        NaN\n",
      "4   1980-12-18  0.118862       NaN       NaN        NaN        NaN\n",
      "5   1980-12-19  0.126116       NaN       NaN        NaN        NaN\n",
      "6   1980-12-22  0.132254       NaN       NaN        NaN        NaN\n",
      "7   1980-12-23  0.137835       NaN       NaN        NaN        NaN\n",
      "8   1980-12-24  0.145089       NaN       NaN        NaN        NaN\n",
      "9   1980-12-26  0.158482       NaN       NaN        NaN        NaN\n",
      "10  1980-12-29  0.160714       NaN       NaN        NaN        NaN\n",
      "11  1980-12-30  0.156808       NaN       NaN        NaN        NaN\n",
      "12  1980-12-31  0.152344       NaN       NaN        NaN        NaN\n",
      "13  1981-01-02  0.154018  0.161272  0.112723  85.058387        NaN\n",
      "14  1981-01-05  0.150670  0.161272  0.112723  78.162276        NaN\n",
      "15  1981-01-06  0.143973  0.161272  0.112723  64.367938  75.862867\n",
      "16  1981-01-07  0.137835  0.161272  0.115513  48.781651  63.770621\n",
      "17  1981-01-08  0.135045  0.161272  0.118862  38.158461  50.436016\n",
      "18  1981-01-09  0.142299  0.161272  0.126116  46.031967  44.324026\n",
      "19  1981-01-12  0.141183  0.161272  0.132254  30.770554  38.320328\n"
     ]
    }
   ],
   "source": [
    "import pandas as pd\n",
    "\n",
    "data = pd.read_csv('AAPL_historical_data.csv')\n",
    "\n",
    "# stochastic oscillator\n",
    "data[\"14-high\"] = data[\"High\"].rolling(window=14).max()\n",
    "data[\"14-low\"] = data[\"Low\"].rolling(window=14).min()\n",
    "data[\"%k\"] = (data[\"Close\"] - data[\"14-low\"]) / (data[\"14-high\"] - data[\"14-low\"]) * 100\n",
    "data[\"%D\"] = data[\"%k\"].rolling(window=3).mean()\n",
    "\n",
    "print(data[[\"Date\", \"Close\", \"14-high\", \"14-low\", \"%k\", \"%D\"]].head(20))"
   ]
  },
  {
   "cell_type": "code",
   "execution_count": 16,
   "metadata": {},
   "outputs": [
    {
     "name": "stdout",
     "output_type": "stream",
     "text": [
      "%k    13\n",
      "%D    15\n",
      "dtype: int64\n"
     ]
    }
   ],
   "source": [
    "# check for NaN values in the calculated columns\n",
    "print(data[[\"%k\", \"%D\"]].isna().sum())"
   ]
  },
  {
   "cell_type": "code",
   "execution_count": 17,
   "metadata": {},
   "outputs": [
    {
     "name": "stdout",
     "output_type": "stream",
     "text": [
      "             Date       Close     14-high      14-low         %k         %D\n",
      "10993  2024-07-24  218.539993  237.229996  217.130005   7.014871  26.636056\n",
      "10994  2024-07-25  217.490005  237.229996  214.619995  12.693544  17.521847\n",
      "10995  2024-07-26  217.960007  237.229996  214.619995  14.772276  11.493563\n",
      "10996  2024-07-29  218.240005  237.229996  214.619995  16.010660  14.492160\n",
      "10997  2024-07-30  218.800003  237.229996  214.619995  18.487430  16.423455\n"
     ]
    }
   ],
   "source": [
    "# display  the last few rows\n",
    "print(data[[\"Date\", \"Close\", \"14-high\", \"14-low\", \"%k\", \"%D\"]].tail())"
   ]
  },
  {
   "cell_type": "code",
   "execution_count": 20,
   "metadata": {},
   "outputs": [
    {
     "name": "stdout",
     "output_type": "stream",
     "text": [
      "          Date      High       Low     Close        TR       ATR  \\\n",
      "0   1980-12-12  0.128906  0.128348  0.128348  0.000558       NaN   \n",
      "1   1980-12-15  0.122210  0.121652  0.121652  0.000558       NaN   \n",
      "2   1980-12-16  0.113281  0.112723  0.112723  0.000558       NaN   \n",
      "3   1980-12-17  0.116071  0.115513  0.115513  0.000558       NaN   \n",
      "4   1980-12-18  0.119420  0.118862  0.118862  0.000558       NaN   \n",
      "5   1980-12-19  0.126674  0.126116  0.126116  0.000558       NaN   \n",
      "6   1980-12-22  0.132813  0.132254  0.132254  0.000559       NaN   \n",
      "7   1980-12-23  0.138393  0.137835  0.137835  0.000558       NaN   \n",
      "8   1980-12-24  0.145647  0.145089  0.145089  0.000558       NaN   \n",
      "9   1980-12-26  0.159040  0.158482  0.158482  0.000558       NaN   \n",
      "10  1980-12-29  0.161272  0.160714  0.160714  0.000558       NaN   \n",
      "11  1980-12-30  0.157366  0.156808  0.156808  0.000558       NaN   \n",
      "12  1980-12-31  0.152902  0.152344  0.152344  0.000558       NaN   \n",
      "13  1981-01-02  0.155134  0.154018  0.154018  0.001116  0.000598   \n",
      "14  1981-01-05  0.151228  0.150670  0.150670  0.000558  0.000598   \n",
      "15  1981-01-06  0.144531  0.143973  0.143973  0.000558  0.000598   \n",
      "16  1981-01-07  0.138393  0.137835  0.137835  0.000558  0.000598   \n",
      "17  1981-01-08  0.135603  0.135045  0.135045  0.000558  0.000598   \n",
      "18  1981-01-09  0.142857  0.142299  0.142299  0.000558  0.000598   \n",
      "19  1981-01-12  0.142299  0.141183  0.141183  0.001116  0.000638   \n",
      "\n",
      "    Donchian_Upper  Donchian_Lower  \n",
      "0              NaN             NaN  \n",
      "1              NaN             NaN  \n",
      "2              NaN             NaN  \n",
      "3              NaN             NaN  \n",
      "4              NaN             NaN  \n",
      "5              NaN             NaN  \n",
      "6              NaN             NaN  \n",
      "7              NaN             NaN  \n",
      "8              NaN             NaN  \n",
      "9              NaN             NaN  \n",
      "10             NaN             NaN  \n",
      "11             NaN             NaN  \n",
      "12             NaN             NaN  \n",
      "13             NaN             NaN  \n",
      "14             NaN             NaN  \n",
      "15             NaN             NaN  \n",
      "16             NaN             NaN  \n",
      "17             NaN             NaN  \n",
      "18             NaN             NaN  \n",
      "19        0.161272        0.112723  \n"
     ]
    }
   ],
   "source": [
    "# calculate average true range\n",
    "data[\"TR\"] = data[[\"High\", \"Low\", \"Close\"]].max(axis=1) - data[[\"High\", \"Low\", \"Close\"]].min(axis=1)\n",
    "data[\"ATR\"] = data[\"TR\"].rolling(window=14).mean()\n",
    "\n",
    "# track the highest high and lowest low over a specified period\n",
    "data[\"Donchian_Upper\"] = data[\"High\"].rolling(window=20).max()\n",
    "data[\"Donchian_Lower\"] = data[\"Low\"].rolling(window=20).min()\n",
    "\n",
    "print(data[[\"Date\", \"High\", \"Low\", \"Close\", \"TR\", \"ATR\", \"Donchian_Upper\", \"Donchian_Lower\"]].head(20))"
   ]
  },
  {
   "cell_type": "code",
   "execution_count": 21,
   "metadata": {},
   "outputs": [
    {
     "name": "stdout",
     "output_type": "stream",
     "text": [
      "ATR               13\n",
      "Donchian_Upper    19\n",
      "Donchian_Lower    19\n",
      "dtype: int64\n"
     ]
    }
   ],
   "source": [
    "# Check for NaN values in the calculated columns\n",
    "print(data[[\"ATR\", \"Donchian_Upper\", \"Donchian_Lower\"]].isna().sum())\n"
   ]
  },
  {
   "cell_type": "code",
   "execution_count": 22,
   "metadata": {},
   "outputs": [
    {
     "name": "stdout",
     "output_type": "stream",
     "text": [
      "             Date        High         Low       Close       ATR  \\\n",
      "10993  2024-07-24  224.800003  217.130005  218.539993  4.860717   \n",
      "10994  2024-07-25  220.850006  214.619995  217.490005  4.962860   \n",
      "10995  2024-07-26  219.490005  216.009995  217.960007  4.882860   \n",
      "10996  2024-07-29  219.300003  215.750000  218.240005  4.920004   \n",
      "10997  2024-07-30  220.330002  216.119995  218.800003  4.947147   \n",
      "\n",
      "       Donchian_Upper  Donchian_Lower  \n",
      "10993      237.229996      210.300003  \n",
      "10994      237.229996      210.300003  \n",
      "10995      237.229996      210.300003  \n",
      "10996      237.229996      211.919998  \n",
      "10997      237.229996      214.619995  \n"
     ]
    }
   ],
   "source": [
    "# Display last few rows of the calculated columns\n",
    "print(data[[\"Date\", \"High\", \"Low\", \"Close\", \"ATR\", \"Donchian_Upper\", \"Donchian_Lower\"]].tail())\n"
   ]
  },
  {
   "cell_type": "code",
   "execution_count": 24,
   "metadata": {},
   "outputs": [
    {
     "name": "stdout",
     "output_type": "stream",
     "text": [
      "          Date      High       Low     Close  Williams_%R\n",
      "0   1980-12-12  0.128906  0.128348  0.128348          NaN\n",
      "1   1980-12-15  0.122210  0.121652  0.121652          NaN\n",
      "2   1980-12-16  0.113281  0.112723  0.112723          NaN\n",
      "3   1980-12-17  0.116071  0.115513  0.115513          NaN\n",
      "4   1980-12-18  0.119420  0.118862  0.118862          NaN\n",
      "5   1980-12-19  0.126674  0.126116  0.126116          NaN\n",
      "6   1980-12-22  0.132813  0.132254  0.132254          NaN\n",
      "7   1980-12-23  0.138393  0.137835  0.137835          NaN\n",
      "8   1980-12-24  0.145647  0.145089  0.145089          NaN\n",
      "9   1980-12-26  0.159040  0.158482  0.158482          NaN\n",
      "10  1980-12-29  0.161272  0.160714  0.160714          NaN\n",
      "11  1980-12-30  0.157366  0.156808  0.156808          NaN\n",
      "12  1980-12-31  0.152902  0.152344  0.152344          NaN\n",
      "13  1981-01-02  0.155134  0.154018  0.154018   -14.941613\n",
      "14  1981-01-05  0.151228  0.150670  0.150670   -21.837724\n",
      "15  1981-01-06  0.144531  0.143973  0.143973   -35.632062\n",
      "16  1981-01-07  0.138393  0.137835  0.137835   -51.218349\n",
      "17  1981-01-08  0.135603  0.135045  0.135045   -61.841539\n",
      "18  1981-01-09  0.142857  0.142299  0.142299   -53.968033\n",
      "19  1981-01-12  0.142299  0.141183  0.141183   -69.229446\n"
     ]
    }
   ],
   "source": [
    "# measure overbought/oversold levels\n",
    "data[\"Williams_%R\"] = (data[\"High\"].rolling(window=14).max() - data[\"Close\"]) /  (data[\"High\"].rolling(window=14).max() - data[\"Low\"].rolling(window=14).min()) * -100\n",
    "print(data[[\"Date\", \"High\", \"Low\", \"Close\", \"Williams_%R\"]].head(20)) "
   ]
  },
  {
   "cell_type": "code",
   "execution_count": 26,
   "metadata": {},
   "outputs": [
    {
     "data": {
      "image/png": "[encoded data removed]",
      "text/plain": [
       "<Figure size 1000x600 with 1 Axes>"
      ]
     },
     "metadata": {},
     "output_type": "display_data"
    }
   ],
   "source": [
    "import matplotlib.pyplot as plt\n",
    "import pandas as pd\n",
    "\n",
    "data = pd.read_csv('AAPL_historical_data.csv')\n",
    "\n",
    "data[\"SMA_20\"] = data[\"Close\"].rolling(window=20).mean()\n",
    "# plot close price and SMA\n",
    "plt.figure(figsize=(10, 6))\n",
    "plt.plot(data[\"Date\"], data[\"Close\"], label=\"Close Price\")\n",
    "plt.plot(data[\"Date\"], data[\"SMA_20\"], label=\"SMA 20\")\n",
    "plt.legend()\n",
    "plt.title(\"Close Price Vs SMA 20\")\n",
    "plt.xlabel(\"Date\")\n",
    "plt.ylabel(\"Price\")\n",
    "plt.show()"
   ]
  },
  {
   "cell_type": "code",
   "execution_count": 4,
   "metadata": {},
   "outputs": [
    {
     "name": "stderr",
     "output_type": "stream",
     "text": [
      "[*********************100%***********************]  1 of 1 completed"
     ]
    },
    {
     "name": "stdout",
     "output_type": "stream",
     "text": [
      "Price        Adj Close       Close        High         Low        Open  \\\n",
      "Ticker            AAPL        AAPL        AAPL        AAPL        AAPL   \n",
      "Date                                                                     \n",
      "2023-01-03  123.768463  125.070000  130.899994  124.169998  130.279999   \n",
      "2023-01-04  125.045052  126.360001  128.660004  125.080002  126.889999   \n",
      "2023-01-05  123.718979  125.019997  127.769997  124.760002  127.129997   \n",
      "2023-01-06  128.271133  129.619995  130.289993  124.889999  126.010002   \n",
      "2023-01-09  128.795609  130.149994  133.410004  129.889999  130.470001   \n",
      "\n",
      "Price          Volume  \n",
      "Ticker           AAPL  \n",
      "Date                   \n",
      "2023-01-03  112117500  \n",
      "2023-01-04   89113600  \n",
      "2023-01-05   80962700  \n",
      "2023-01-06   87754700  \n",
      "2023-01-09   70790800  \n"
     ]
    },
    {
     "name": "stderr",
     "output_type": "stream",
     "text": [
      "\n"
     ]
    }
   ],
   "source": [
    "import pandas as pd\n",
    "import yfinance as yf\n",
    "\n",
    "# Get historical data for Apple stock\n",
    "data = yf.download(\"AAPL\", start=\"2023-01-01\", end=\"2024-01-01\")\n",
    "print(data.head())\n"
   ]
  },
  {
   "cell_type": "code",
   "execution_count": null,
   "metadata": {},
   "outputs": [],
   "source": []
  }
 ],
 "metadata": {
  "kernelspec": {
   "display_name": "venv",
   "language": "python",
   "name": "python3"
  },
  "language_info": {
   "codemirror_mode": {
    "name": "ipython",
    "version": 3
   },
   "file_extension": ".py",
   "mimetype": "text/x-python",
   "name": "python",
   "nbconvert_exporter": "python",
   "pygments_lexer": "ipython3",
   "version": "3.12.3"
  }
 },
 "nbformat": 4,
 "nbformat_minor": 2
}
