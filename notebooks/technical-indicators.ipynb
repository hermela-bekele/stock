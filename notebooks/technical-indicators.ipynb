{
 "cells": [
  {
   "cell_type": "code",
   "execution_count": 2,
   "metadata": {},
   "outputs": [
    {
     "name": "stdout",
     "output_type": "stream",
     "text": [
      "         Date      Open      High       Low     Close  Adj Close     Volume  \\\n",
      "0  1980-12-12  0.128348  0.128906  0.128348  0.128348   0.098943  469033600   \n",
      "1  1980-12-15  0.122210  0.122210  0.121652  0.121652   0.093781  175884800   \n",
      "2  1980-12-16  0.113281  0.113281  0.112723  0.112723   0.086898  105728000   \n",
      "3  1980-12-17  0.115513  0.116071  0.115513  0.115513   0.089049   86441600   \n",
      "4  1980-12-18  0.118862  0.119420  0.118862  0.118862   0.091630   73449600   \n",
      "\n",
      "   Dividends  Stock Splits  \n",
      "0        0.0           0.0  \n",
      "1        0.0           0.0  \n",
      "2        0.0           0.0  \n",
      "3        0.0           0.0  \n",
      "4        0.0           0.0  \n",
      "<class 'pandas.core.frame.DataFrame'>\n",
      "RangeIndex: 10998 entries, 0 to 10997\n",
      "Data columns (total 9 columns):\n",
      " #   Column        Non-Null Count  Dtype  \n",
      "---  ------        --------------  -----  \n",
      " 0   Date          10998 non-null  object \n",
      " 1   Open          10998 non-null  float64\n",
      " 2   High          10998 non-null  float64\n",
      " 3   Low           10998 non-null  float64\n",
      " 4   Close         10998 non-null  float64\n",
      " 5   Adj Close     10998 non-null  float64\n",
      " 6   Volume        10998 non-null  int64  \n",
      " 7   Dividends     10998 non-null  float64\n",
      " 8   Stock Splits  10998 non-null  float64\n",
      "dtypes: float64(7), int64(1), object(1)\n",
      "memory usage: 773.4+ KB\n",
      "None\n"
     ]
    }
   ],
   "source": [
    "import pandas as pd\n",
    "data = pd.read_csv('AAPL_historical_data.csv')\n",
    "print(data.head())\n",
    "print(data.info())"
   ]
  },
  {
   "cell_type": "code",
   "execution_count": null,
   "metadata": {},
   "outputs": [],
   "source": [
    "import pandas as pd\n",
    "\n",
    "data = pd.read_csv('AAPL_historical_data.csv')\n",
    "\n",
    "# claculate simple moving average\n",
    "data[\"SMA_20\"] = data[\"Close\"].rolling(window=20).mean()\n"
   ]
  },
  {
   "cell_type": "code",
   "execution_count": 6,
   "metadata": {},
   "outputs": [],
   "source": [
    "# calculate exponential moving average\n",
    "data[\"EMA_20\"] = data[\"Close\"].ewm(span=20, adjust=False).mean()"
   ]
  },
  {
   "cell_type": "code",
   "execution_count": 7,
   "metadata": {},
   "outputs": [],
   "source": [
    "# calculate daily price changes\n",
    "delta = data[\"Close\"].diff()\n",
    "\n",
    "# calculate gaines and losses\n",
    "gain = delta.where(delta > 0, 0)\n",
    "loss = delta.where(delta < 0, 0)\n",
    "\n",
    "# calculate average gains and lossess\n",
    "window_length = 14\n",
    "avg_gain = gain.rolling(window=window_length, min_periods=1).mean()\n",
    "avg_loss = loss.rolling(window=window_length, min_periods=1).mean()\n",
    "\n",
    "# calculate relative strength index\n",
    "rs = avg_gain / avg_loss\n",
    "data[\"RSI_14\"] = 100 - (100 / (1 + rs))"
   ]
  },
  {
   "cell_type": "code",
   "execution_count": 10,
   "metadata": {},
   "outputs": [],
   "source": [
    "# calculate moving average convergence divergence\n",
    "ema_fast = data[\"Close\"].ewm(span=12, adjust=False).mean()\n",
    "ema_slow = data[\"Close\"].ewm(span=26, adjust=False).mean()\n",
    "\n",
    "data[\"MACD\"] = ema_fast - ema_slow\n",
    "data[\"MACD_Signal\"] = data[\"MACD\"].ewm(span=9, adjust=False).mean()\n",
    "data[\"MACD_Hist\"] = data[\"MACD\"] - data[\"MACD_Signal\"]"
   ]
  },
  {
   "cell_type": "code",
   "execution_count": 12,
   "metadata": {},
   "outputs": [
    {
     "name": "stdout",
     "output_type": "stream",
     "text": [
      "         Date     Close  SMA_20    EMA_20     RSI_14      MACD  MACD_Signal  \\\n",
      "0  1980-12-12  0.128348     NaN  0.128348        NaN  0.000000     0.000000   \n",
      "1  1980-12-15  0.121652     NaN  0.127710   0.000000 -0.000534    -0.000107   \n",
      "2  1980-12-16  0.112723     NaN  0.126283   0.000000 -0.001659    -0.000417   \n",
      "3  1980-12-17  0.115513     NaN  0.125257 -21.737417 -0.002299    -0.000793   \n",
      "4  1980-12-18  0.118862     NaN  0.124648 -64.716523 -0.002506    -0.001136   \n",
      "\n",
      "   MACD_Hist  \n",
      "0   0.000000  \n",
      "1  -0.000427  \n",
      "2  -0.001242  \n",
      "3  -0.001505  \n",
      "4  -0.001370  \n"
     ]
    }
   ],
   "source": [
    "# display the updated dataset with the technical indicators\n",
    "print(data[[\"Date\", \"Close\", \"SMA_20\", \"EMA_20\", \"RSI_14\", \"MACD\", \"MACD_Signal\", \"MACD_Hist\"]].head())"
   ]
  },
  {
   "cell_type": "code",
   "execution_count": 13,
   "metadata": {},
   "outputs": [
    {
     "name": "stdout",
     "output_type": "stream",
     "text": [
      "         Date      Open      High       Low     Close  Adj Close      Volume  \\\n",
      "0  1997-05-15  0.121875  0.125000  0.096354  0.097917   0.097917  1443120000   \n",
      "1  1997-05-16  0.098438  0.098958  0.085417  0.086458   0.086458   294000000   \n",
      "2  1997-05-19  0.088021  0.088542  0.081250  0.085417   0.085417   122136000   \n",
      "3  1997-05-20  0.086458  0.087500  0.081771  0.081771   0.081771   109344000   \n",
      "4  1997-05-21  0.081771  0.082292  0.068750  0.071354   0.071354   377064000   \n",
      "\n",
      "   Dividends  Stock Splits  \n",
      "0        0.0           0.0  \n",
      "1        0.0           0.0  \n",
      "2        0.0           0.0  \n",
      "3        0.0           0.0  \n",
      "4        0.0           0.0  \n",
      "<class 'pandas.core.frame.DataFrame'>\n",
      "RangeIndex: 6846 entries, 0 to 6845\n",
      "Data columns (total 9 columns):\n",
      " #   Column        Non-Null Count  Dtype  \n",
      "---  ------        --------------  -----  \n",
      " 0   Date          6846 non-null   object \n",
      " 1   Open          6846 non-null   float64\n",
      " 2   High          6846 non-null   float64\n",
      " 3   Low           6846 non-null   float64\n",
      " 4   Close         6846 non-null   float64\n",
      " 5   Adj Close     6846 non-null   float64\n",
      " 6   Volume        6846 non-null   int64  \n",
      " 7   Dividends     6846 non-null   float64\n",
      " 8   Stock Splits  6846 non-null   float64\n",
      "dtypes: float64(7), int64(1), object(1)\n",
      "memory usage: 481.5+ KB\n",
      "None\n",
      "         Date     Close  SMA_20    EMA_20  RSI_14      MACD  MACD_Signal  \\\n",
      "0  1997-05-15  0.097917     NaN  0.097917     NaN  0.000000     0.000000   \n",
      "1  1997-05-16  0.086458     NaN  0.096826     0.0 -0.000914    -0.000183   \n",
      "2  1997-05-19  0.085417     NaN  0.095739     0.0 -0.001703    -0.000487   \n",
      "3  1997-05-20  0.081771     NaN  0.094409     0.0 -0.002592    -0.000908   \n",
      "4  1997-05-21  0.071354     NaN  0.092213     0.0 -0.004091    -0.001544   \n",
      "\n",
      "   MACD_Hist  \n",
      "0   0.000000  \n",
      "1  -0.000731  \n",
      "2  -0.001216  \n",
      "3  -0.001684  \n",
      "4  -0.002546  \n"
     ]
    }
   ],
   "source": [
    "import pandas as pd\n",
    "data = pd.read_csv('AMZN_historical_data.csv')\n",
    "print(data.head())\n",
    "print(data.info())\n",
    "\n",
    "# claculate simple moving average\n",
    "data[\"SMA_20\"] = data[\"Close\"].rolling(window=20).mean()\n",
    "\n",
    "# calculate exponential moving average\n",
    "data[\"EMA_20\"] = data[\"Close\"].ewm(span=20, adjust=False).mean()\n",
    "\n",
    "# calculate daily price changes\n",
    "delta = data[\"Close\"].diff()\n",
    "\n",
    "# calculate gaines and losses\n",
    "gain = delta.where(delta > 0, 0)\n",
    "loss = delta.where(delta < 0, 0)\n",
    "\n",
    "# calculate average gains and lossess\n",
    "window_length = 14\n",
    "avg_gain = gain.rolling(window=window_length, min_periods=1).mean()\n",
    "avg_loss = loss.rolling(window=window_length, min_periods=1).mean()\n",
    "\n",
    "# calculate relative strength index\n",
    "rs = avg_gain / avg_loss\n",
    "data[\"RSI_14\"] = 100 - (100 / (1 + rs))\n",
    "\n",
    "# calculate moving average convergence divergence\n",
    "ema_fast = data[\"Close\"].ewm(span=12, adjust=False).mean()\n",
    "ema_slow = data[\"Close\"].ewm(span=26, adjust=False).mean()\n",
    "\n",
    "data[\"MACD\"] = ema_fast - ema_slow\n",
    "data[\"MACD_Signal\"] = data[\"MACD\"].ewm(span=9, adjust=False).mean()\n",
    "data[\"MACD_Hist\"] = data[\"MACD\"] - data[\"MACD_Signal\"]\n",
    "\n",
    "# display the updated dataset with the technical indicators\n",
    "print(data[[\"Date\", \"Close\", \"SMA_20\", \"EMA_20\", \"RSI_14\", \"MACD\", \"MACD_Signal\", \"MACD_Hist\"]].head())"
   ]
  },
  {
   "cell_type": "code",
   "execution_count": 15,
   "metadata": {},
   "outputs": [
    {
     "name": "stdout",
     "output_type": "stream",
     "text": [
      "          Date     Close   14-high    14-low         %k         %D\n",
      "0   1980-12-12  0.128348       NaN       NaN        NaN        NaN\n",
      "1   1980-12-15  0.121652       NaN       NaN        NaN        NaN\n",
      "2   1980-12-16  0.112723       NaN       NaN        NaN        NaN\n",
      "3   1980-12-17  0.115513       NaN       NaN        NaN        NaN\n",
      "4   1980-12-18  0.118862       NaN       NaN        NaN        NaN\n",
      "5   1980-12-19  0.126116       NaN       NaN        NaN        NaN\n",
      "6   1980-12-22  0.132254       NaN       NaN        NaN        NaN\n",
      "7   1980-12-23  0.137835       NaN       NaN        NaN        NaN\n",
      "8   1980-12-24  0.145089       NaN       NaN        NaN        NaN\n",
      "9   1980-12-26  0.158482       NaN       NaN        NaN        NaN\n",
      "10  1980-12-29  0.160714       NaN       NaN        NaN        NaN\n",
      "11  1980-12-30  0.156808       NaN       NaN        NaN        NaN\n",
      "12  1980-12-31  0.152344       NaN       NaN        NaN        NaN\n",
      "13  1981-01-02  0.154018  0.161272  0.112723  85.058387        NaN\n",
      "14  1981-01-05  0.150670  0.161272  0.112723  78.162276        NaN\n",
      "15  1981-01-06  0.143973  0.161272  0.112723  64.367938  75.862867\n",
      "16  1981-01-07  0.137835  0.161272  0.115513  48.781651  63.770621\n",
      "17  1981-01-08  0.135045  0.161272  0.118862  38.158461  50.436016\n",
      "18  1981-01-09  0.142299  0.161272  0.126116  46.031967  44.324026\n",
      "19  1981-01-12  0.141183  0.161272  0.132254  30.770554  38.320328\n"
     ]
    }
   ],
   "source": [
    "import pandas as pd\n",
    "\n",
    "data = pd.read_csv('AAPL_historical_data.csv')\n",
    "\n",
    "# stochastic oscillator\n",
    "data[\"14-high\"] = data[\"High\"].rolling(window=14).max()\n",
    "data[\"14-low\"] = data[\"Low\"].rolling(window=14).min()\n",
    "data[\"%k\"] = (data[\"Close\"] - data[\"14-low\"]) / (data[\"14-high\"] - data[\"14-low\"]) * 100\n",
    "data[\"%D\"] = data[\"%k\"].rolling(window=3).mean()\n",
    "\n",
    "print(data[[\"Date\", \"Close\", \"14-high\", \"14-low\", \"%k\", \"%D\"]].head(20))"
   ]
  },
  {
   "cell_type": "code",
   "execution_count": 16,
   "metadata": {},
   "outputs": [
    {
     "name": "stdout",
     "output_type": "stream",
     "text": [
      "%k    13\n",
      "%D    15\n",
      "dtype: int64\n"
     ]
    }
   ],
   "source": [
    "# check for NaN values in the calculated columns\n",
    "print(data[[\"%k\", \"%D\"]].isna().sum())"
   ]
  },
  {
   "cell_type": "code",
   "execution_count": 17,
   "metadata": {},
   "outputs": [
    {
     "name": "stdout",
     "output_type": "stream",
     "text": [
      "             Date       Close     14-high      14-low         %k         %D\n",
      "10993  2024-07-24  218.539993  237.229996  217.130005   7.014871  26.636056\n",
      "10994  2024-07-25  217.490005  237.229996  214.619995  12.693544  17.521847\n",
      "10995  2024-07-26  217.960007  237.229996  214.619995  14.772276  11.493563\n",
      "10996  2024-07-29  218.240005  237.229996  214.619995  16.010660  14.492160\n",
      "10997  2024-07-30  218.800003  237.229996  214.619995  18.487430  16.423455\n"
     ]
    }
   ],
   "source": [
    "# display  the last few rows\n",
    "print(data[[\"Date\", \"Close\", \"14-high\", \"14-low\", \"%k\", \"%D\"]].tail())"
   ]
  },
  {
   "cell_type": "code",
   "execution_count": 20,
   "metadata": {},
   "outputs": [
    {
     "name": "stdout",
     "output_type": "stream",
     "text": [
      "          Date      High       Low     Close        TR       ATR  \\\n",
      "0   1980-12-12  0.128906  0.128348  0.128348  0.000558       NaN   \n",
      "1   1980-12-15  0.122210  0.121652  0.121652  0.000558       NaN   \n",
      "2   1980-12-16  0.113281  0.112723  0.112723  0.000558       NaN   \n",
      "3   1980-12-17  0.116071  0.115513  0.115513  0.000558       NaN   \n",
      "4   1980-12-18  0.119420  0.118862  0.118862  0.000558       NaN   \n",
      "5   1980-12-19  0.126674  0.126116  0.126116  0.000558       NaN   \n",
      "6   1980-12-22  0.132813  0.132254  0.132254  0.000559       NaN   \n",
      "7   1980-12-23  0.138393  0.137835  0.137835  0.000558       NaN   \n",
      "8   1980-12-24  0.145647  0.145089  0.145089  0.000558       NaN   \n",
      "9   1980-12-26  0.159040  0.158482  0.158482  0.000558       NaN   \n",
      "10  1980-12-29  0.161272  0.160714  0.160714  0.000558       NaN   \n",
      "11  1980-12-30  0.157366  0.156808  0.156808  0.000558       NaN   \n",
      "12  1980-12-31  0.152902  0.152344  0.152344  0.000558       NaN   \n",
      "13  1981-01-02  0.155134  0.154018  0.154018  0.001116  0.000598   \n",
      "14  1981-01-05  0.151228  0.150670  0.150670  0.000558  0.000598   \n",
      "15  1981-01-06  0.144531  0.143973  0.143973  0.000558  0.000598   \n",
      "16  1981-01-07  0.138393  0.137835  0.137835  0.000558  0.000598   \n",
      "17  1981-01-08  0.135603  0.135045  0.135045  0.000558  0.000598   \n",
      "18  1981-01-09  0.142857  0.142299  0.142299  0.000558  0.000598   \n",
      "19  1981-01-12  0.142299  0.141183  0.141183  0.001116  0.000638   \n",
      "\n",
      "    Donchian_Upper  Donchian_Lower  \n",
      "0              NaN             NaN  \n",
      "1              NaN             NaN  \n",
      "2              NaN             NaN  \n",
      "3              NaN             NaN  \n",
      "4              NaN             NaN  \n",
      "5              NaN             NaN  \n",
      "6              NaN             NaN  \n",
      "7              NaN             NaN  \n",
      "8              NaN             NaN  \n",
      "9              NaN             NaN  \n",
      "10             NaN             NaN  \n",
      "11             NaN             NaN  \n",
      "12             NaN             NaN  \n",
      "13             NaN             NaN  \n",
      "14             NaN             NaN  \n",
      "15             NaN             NaN  \n",
      "16             NaN             NaN  \n",
      "17             NaN             NaN  \n",
      "18             NaN             NaN  \n",
      "19        0.161272        0.112723  \n"
     ]
    }
   ],
   "source": [
    "# calculate average true range\n",
    "data[\"TR\"] = data[[\"High\", \"Low\", \"Close\"]].max(axis=1) - data[[\"High\", \"Low\", \"Close\"]].min(axis=1)\n",
    "data[\"ATR\"] = data[\"TR\"].rolling(window=14).mean()\n",
    "\n",
    "# track the highest high and lowest low over a specified period\n",
    "data[\"Donchian_Upper\"] = data[\"High\"].rolling(window=20).max()\n",
    "data[\"Donchian_Lower\"] = data[\"Low\"].rolling(window=20).min()\n",
    "\n",
    "print(data[[\"Date\", \"High\", \"Low\", \"Close\", \"TR\", \"ATR\", \"Donchian_Upper\", \"Donchian_Lower\"]].head(20))"
   ]
  },
  {
   "cell_type": "code",
   "execution_count": 21,
   "metadata": {},
   "outputs": [
    {
     "name": "stdout",
     "output_type": "stream",
     "text": [
      "ATR               13\n",
      "Donchian_Upper    19\n",
      "Donchian_Lower    19\n",
      "dtype: int64\n"
     ]
    }
   ],
   "source": [
    "# Check for NaN values in the calculated columns\n",
    "print(data[[\"ATR\", \"Donchian_Upper\", \"Donchian_Lower\"]].isna().sum())\n"
   ]
  },
  {
   "cell_type": "code",
   "execution_count": 22,
   "metadata": {},
   "outputs": [
    {
     "name": "stdout",
     "output_type": "stream",
     "text": [
      "             Date        High         Low       Close       ATR  \\\n",
      "10993  2024-07-24  224.800003  217.130005  218.539993  4.860717   \n",
      "10994  2024-07-25  220.850006  214.619995  217.490005  4.962860   \n",
      "10995  2024-07-26  219.490005  216.009995  217.960007  4.882860   \n",
      "10996  2024-07-29  219.300003  215.750000  218.240005  4.920004   \n",
      "10997  2024-07-30  220.330002  216.119995  218.800003  4.947147   \n",
      "\n",
      "       Donchian_Upper  Donchian_Lower  \n",
      "10993      237.229996      210.300003  \n",
      "10994      237.229996      210.300003  \n",
      "10995      237.229996      210.300003  \n",
      "10996      237.229996      211.919998  \n",
      "10997      237.229996      214.619995  \n"
     ]
    }
   ],
   "source": [
    "# Display last few rows of the calculated columns\n",
    "print(data[[\"Date\", \"High\", \"Low\", \"Close\", \"ATR\", \"Donchian_Upper\", \"Donchian_Lower\"]].tail())\n"
   ]
  },
  {
   "cell_type": "code",
   "execution_count": 24,
   "metadata": {},
   "outputs": [
    {
     "name": "stdout",
     "output_type": "stream",
     "text": [
      "          Date      High       Low     Close  Williams_%R\n",
      "0   1980-12-12  0.128906  0.128348  0.128348          NaN\n",
      "1   1980-12-15  0.122210  0.121652  0.121652          NaN\n",
      "2   1980-12-16  0.113281  0.112723  0.112723          NaN\n",
      "3   1980-12-17  0.116071  0.115513  0.115513          NaN\n",
      "4   1980-12-18  0.119420  0.118862  0.118862          NaN\n",
      "5   1980-12-19  0.126674  0.126116  0.126116          NaN\n",
      "6   1980-12-22  0.132813  0.132254  0.132254          NaN\n",
      "7   1980-12-23  0.138393  0.137835  0.137835          NaN\n",
      "8   1980-12-24  0.145647  0.145089  0.145089          NaN\n",
      "9   1980-12-26  0.159040  0.158482  0.158482          NaN\n",
      "10  1980-12-29  0.161272  0.160714  0.160714          NaN\n",
      "11  1980-12-30  0.157366  0.156808  0.156808          NaN\n",
      "12  1980-12-31  0.152902  0.152344  0.152344          NaN\n",
      "13  1981-01-02  0.155134  0.154018  0.154018   -14.941613\n",
      "14  1981-01-05  0.151228  0.150670  0.150670   -21.837724\n",
      "15  1981-01-06  0.144531  0.143973  0.143973   -35.632062\n",
      "16  1981-01-07  0.138393  0.137835  0.137835   -51.218349\n",
      "17  1981-01-08  0.135603  0.135045  0.135045   -61.841539\n",
      "18  1981-01-09  0.142857  0.142299  0.142299   -53.968033\n",
      "19  1981-01-12  0.142299  0.141183  0.141183   -69.229446\n"
     ]
    }
   ],
   "source": [
    "# measure overbought/oversold levels\n",
    "data[\"Williams_%R\"] = (data[\"High\"].rolling(window=14).max() - data[\"Close\"]) /  (data[\"High\"].rolling(window=14).max() - data[\"Low\"].rolling(window=14).min()) * -100\n",
    "print(data[[\"Date\", \"High\", \"Low\", \"Close\", \"Williams_%R\"]].head(20)) "
   ]
  },
  {
   "cell_type": "code",
   "execution_count": 26,
   "metadata": {},
   "outputs": [
    {
     "data": {
      "image/png": "[encoded data removed]",
      "text/plain": [
       "<Figure size 1000x600 with 1 Axes>"
      ]
     },
     "metadata": {},
     "output_type": "display_data"
    }
   ],
   "source": [
    "import matplotlib.pyplot as plt\n",
    "import pandas as pd\n",
    "\n",
    "data = pd.read_csv('AAPL_historical_data.csv')\n",
    "\n",
    "data[\"SMA_20\"] = data[\"Close\"].rolling(window=20).mean()\n",
    "# plot close price and SMA\n",
    "plt.figure(figsize=(10, 6))\n",
    "plt.plot(data[\"Date\"], data[\"Close\"], label=\"Close Price\")\n",
    "plt.plot(data[\"Date\"], data[\"SMA_20\"], label=\"SMA 20\")\n",
    "plt.legend()\n",
    "plt.title(\"Close Price Vs SMA 20\")\n",
    "plt.xlabel(\"Date\")\n",
    "plt.ylabel(\"Price\")\n",
    "plt.show()"
   ]
  },
  {
   "cell_type": "code",
   "execution_count": 4,
   "metadata": {},
   "outputs": [
    {
     "name": "stderr",
     "output_type": "stream",
     "text": [
      "[*********************100%***********************]  1 of 1 completed"
     ]
    },
    {
     "name": "stdout",
     "output_type": "stream",
     "text": [
      "Price        Adj Close       Close        High         Low        Open  \\\n",
      "Ticker            AAPL        AAPL        AAPL        AAPL        AAPL   \n",
      "Date                                                                     \n",
      "2023-01-03  123.768463  125.070000  130.899994  124.169998  130.279999   \n",
      "2023-01-04  125.045052  126.360001  128.660004  125.080002  126.889999   \n",
      "2023-01-05  123.718979  125.019997  127.769997  124.760002  127.129997   \n",
      "2023-01-06  128.271133  129.619995  130.289993  124.889999  126.010002   \n",
      "2023-01-09  128.795609  130.149994  133.410004  129.889999  130.470001   \n",
      "\n",
      "Price          Volume  \n",
      "Ticker           AAPL  \n",
      "Date                   \n",
      "2023-01-03  112117500  \n",
      "2023-01-04   89113600  \n",
      "2023-01-05   80962700  \n",
      "2023-01-06   87754700  \n",
      "2023-01-09   70790800  \n"
     ]
    },
    {
     "name": "stderr",
     "output_type": "stream",
     "text": [
      "\n"
     ]
    }
   ],
   "source": [
    "import pandas as pd\n",
    "import yfinance as yf\n",
    "\n",
    "# Get historical data for Apple stock\n",
    "data = yf.download(\"AAPL\", start=\"2023-01-01\", end=\"2024-01-01\")\n",
    "print(data.head())\n"
   ]
  },
  {
   "cell_type": "code",
   "execution_count": 6,
   "metadata": {},
   "outputs": [
    {
     "name": "stderr",
     "output_type": "stream",
     "text": [
      "[*********************100%***********************]  1 of 1 completed"
     ]
    },
    {
     "name": "stdout",
     "output_type": "stream",
     "text": [
      "Price        Adj Close       Close        High         Low        Open  \\\n",
      "Ticker            AAPL        AAPL        AAPL        AAPL        AAPL   \n",
      "Date                                                                     \n",
      "2023-12-18  194.935013  195.889999  196.630005  194.389999  196.089996   \n",
      "2023-12-19  195.979889  196.940002  196.949997  195.889999  196.160004   \n",
      "2023-12-20  193.880188  194.830002  197.679993  194.830002  196.899994   \n",
      "2023-12-21  193.730881  194.679993  197.080002  193.500000  196.100006   \n",
      "2023-12-22  192.656174  193.600006  195.410004  192.970001  195.179993   \n",
      "\n",
      "Price         Volume  \n",
      "Ticker          AAPL  \n",
      "Date                  \n",
      "2023-12-18  55751900  \n",
      "2023-12-19  40714100  \n",
      "2023-12-20  52242800  \n",
      "2023-12-21  46482500  \n",
      "2023-12-22  37122800  \n"
     ]
    },
    {
     "name": "stderr",
     "output_type": "stream",
     "text": [
      "\n"
     ]
    }
   ],
   "source": [
    "import yfinance as yf\n",
    "\n",
    "# get historical data for apple stock\n",
    "ticker = 'AAPL'\n",
    "stock_data = yf.download(ticker, period='1y')\n",
    "\n",
    "print(stock_data.head())"
   ]
  },
  {
   "cell_type": "code",
   "execution_count": 8,
   "metadata": {},
   "outputs": [
    {
     "name": "stdout",
     "output_type": "stream",
     "text": [
      "Title: Apple Inc. (AAPL) Leverages AWS AI Chips for Apple Intelligence Pretraining, Highlights Collaboration at AWS re:Invent\n",
      "Description: We recently compiled a list of the 10 AI News Investors Should Not Miss. In this article, we are going to take a look at where Apple Inc. (NASDAQ:AAPL...\n",
      "\n",
      "Title: DOJ's reported push for Google to sell Chrome is 'political move'\n",
      "Description: The US Justice Department (DOJ) is reportedly looking to force Alphabet's Google (GOOG, GOOGL) to divest from its Chrome browser as part of its ongoing...\n",
      "\n",
      "Title: Apple is nowhere to be found in this year's smartphone sales rebound, researchers say\n",
      "Description: Although global smartphone sales are set to grow to 1.24 billion units this year, Apple’s (AAPL) performance has barely improved, according to a new study.Read more...\n",
      "\n",
      "Title: Apple, Nvidia, and Microsoft are America's best-managed companies right now, report says\n",
      "Description: Apple (AAPL) is the best-managed company in the U.S., according to a new ranking by The Wall Street Journal.Read more...\n",
      "\n",
      "Title: Apple's ecosystem is a 'prison yard' and 'panopticon' for employees, lawsuit claims\n",
      "Description: A current Apple (AAPL) employee is suing the company for illegally limiting worker freedoms through its required intellectual property agreement.Read more...\n",
      "\n",
      "Title: Apple users can now access ChatGPT through Siri\n",
      "Description: Apple (AAPL) unveiled a slate of new artificial intelligence features on its newest devices, including access to OpenAI’s popular chatbot, ChatGPT.Read more...\n",
      "\n",
      "Title: Costco butter recall, Black Friday deals, and fast food service: Business news roundup\n",
      "Description: Costco (COST) recalled nearly 80,000 pounds of its store-brand butter products last month because they were missing a legally-required allergy statement.Read more...\n",
      "\n",
      "Title: Intel ousts its CEO, Mark Zuckerberg eyes Trump, and Elon Musk loses again: Tech news roundup\n",
      "Description: Elon Musk’s SpaceX is eyeing a tender offer that would value the aerospace company at $350 billionRead more...\n",
      "\n",
      "Title: Apple is giving Siri a makeover to compete with AI chatbots\n",
      "Description: Popular new chatbots, starting with OpenAI’s 2-year-old ChatGPT and the wave of AI assistants that followed, have become increasingly conversational. Now, Apple (AAPL) is looking to make its pre-teenaged voice assistant, Siri, a competitor in the space.Read m…\n",
      "\n",
      "Title: McDonald's E. coli closure, Cyber Monday beats Black Friday, and Chipotle raises prices: Retail news roundup\n",
      "Description: McDonald’s has officially resolved the E. coli outbreak linked to its restaurants, according to an update from the Centers for Disease Control (CDC) and Prevention. Black Friday officially went digital as shoppers embraced the convenience of online shopping. …\n",
      "\n",
      "Title: United Airlines will let passengers share AirTag locations to find lost baggage\n",
      "Description: United Airlines (UAL) is rolling out a new update to its app that could help passengers track down their bags after landing. The company announced Thursday that its customers will be able to share the location of Apple (AAPL) AirTags with the United app.Read …\n",
      "\n",
      "Title: Amazon's top 10 Black Friday deals under $50\n",
      "Description: Black Friday and Cyber Monday are just days away, and Amazon is already offering deals across every category.Read more...\n",
      "\n",
      "Title: Walmart's top 10 Black Friday deals under $50\n",
      "Description: Black Friday and Cyber Monday are nearly here, and Walmart is already offering bargains spanning various categories.Read more...\n",
      "\n",
      "Title: A Tesla competitor is building iPads for Apple\n",
      "Description: Tesla’s biggest competitor has a side hustle assembling iPads.Read more...\n",
      "\n",
      "Title: Amazon, Walmart, and Target's top 10 Cyber Monday deals\n",
      "Description: The dust may have settled from Black Friday, but Cyber Monday is still here – and retail giants like Amazon, Walmart (WMT), and Target (TGT) are all offering discounts across every category. Read more...\n",
      "\n",
      "Title: Quartz What's Ahead 2025\n",
      "Description: 2024 was a transformative year — and 2025 promises to reorder the global business landscape at an even more dizzying, breakneck pace.Read more...\n",
      "\n",
      "Title: Amazon, Walmart, and Target's top 10 Black Friday deals\n",
      "Description: Amazon (AMZN), Walmart (WMT), and Target (TGT) are racing to capture the attention – and wallets – of budget-conscious shoppers as Black Friday and Cyber Monday quickly approach.Read more...\n",
      "\n",
      "Title: Now you can buy crypto from Coinbase using Apple Pay\n",
      "Description: New features will allow users to buy cryptocurrencies like Bitcoin, Ether Dogecoin, and others on the crypto exchange using Apple Pay\n",
      "\n",
      "Title: Market Clubhouse Morning Memo - November 25th, 2024 (Trade Strategy For SPY, QQQ, AAPL, MSFT, NVDA, GOOGL, META And TSLA)\n",
      "Description: Good Morning Traders! In today's Market Clubhouse Morning Memo, we will discuss SPY, QQQ, AAPL, MSFT, NVDA, GOOGL, META, and TSLA.\n",
      "Our proprietary formula, exclusive to Market Clubhouse, dictates these price levels. This dynamic equation takes into account pr…\n",
      "\n",
      "Title: Alphabet stock falls over 5% as Feds push for Google to sell Chrome\n",
      "Description: Google parent company Alphabet’s (GOOGL) shares fell over 5% during mid-day trading on Thursday amid pressure on Google to sell its Chrome web browser.Read more...\n",
      "\n",
      "Title: Broadcom stock soars 20% as AI demand powers the company to a $1 trillion market cap\n",
      "Description: Broadcom (AVGO) has surpassed the $1 trillion market cap for the first time after it reported a 220% jump in artificial intelligence revenue.Read more...\n",
      "\n",
      "Title: AAPL, NVDA, or BABA: Which Tech Giant Could Offer the Highest Upside?\n",
      "Description: The buzz around generative artificial intelligence (AI) and expectations of falling interest rates are driving several technology stocks higher. While there ...\n",
      "\n",
      "Title: Could Buying Apple Stock Today Set You Up for Life?\n",
      "Description: Apple (NASDAQ: AAPL) has grown to become one of the world's largest companies over the past several decades, changing the lives of countless investors in the process. Even a measly $1,000 invested in 2005 -- 25 years after the company went public -- would sti…\n",
      "\n",
      "Title: China's top smartphone player is still years behind the U.S.\n",
      "Description: Despite its comeback to compete with Apple in the Chinese smartphone market, Huawei’s latest smartphone shows it is still years behind, researchers found.Read more...\n",
      "\n",
      "Title: Cyber Monday beats Black Friday once again\n",
      "Description: Cyber Monday has once again claimed the title of the biggest shopping day of the year, reinforcing its dominance over Black Friday and setting a new benchmark for online retail. Read more...\n",
      "\n",
      "Title: Meta could outdo Google in the AI transformation, professor says\n",
      "Description: Despite being one of the pioneers of artificial intelligence research, Google (GOOGL) isn’t poised to be a winner of the transformation, according to a business professor.Read more...\n",
      "\n",
      "Title: The feds want Google to sell its Chrome browser\n",
      "Description: The Department of Justice (DOJ) said Wednesday that it wants Google (GOOGL) to sell its Chrome web browser as the government looks to break up the tech giant’s dominance in the search engine market.Read more...\n",
      "\n",
      "Title: Nvidia earnings are this week. Here's what Wall Street expects\n",
      "Description: The chipmaker recently announced that Japan's SoftBank Group will be the first to receive its new Blackwell AI chips\n",
      "\n",
      "Title: The S&P 500 is about to have a big year, Goldman Sachs says — even without the 'Magnificent 7'\n",
      "Description: After Morgan Stanley’s (MS) bullish outlook, another financial giant has joined the optimistic chorus for the S&P 500 in 2025. What’s more, it expects the growth of the S&P 500 to occur without relying on the outperformance of the Magnificent Seven, marking a…\n",
      "\n",
      "Title: The winners and losers of Black Friday\n",
      "Description: Black Friday may be synonymous with online shopping, but this year, brick-and-mortar stores had their moment in the spotlight too. Read more...\n",
      "\n",
      "Title: A Google poll says pretty much all of Gen Z is using AI for work\n",
      "Description: Most Gen Z and millennial knowledge workers are already using artificial intelligence tools in one capacity or another at work.Read more...\n",
      "\n",
      "Title: What Cruise's self-driving end means for Tesla and Waymo: Morning Brief\n",
      "Description: Cruise's demise pokes another hole in the commercial fantasy of a robotaxi fleet.\n",
      "\n",
      "Title: United Airlines integrates Apple’s new share item location feature for AirTag\n",
      "Description: United (UAL) announces the integration of Apple’s (AAPL) new Share Item Location feature for AirTag into its mobile app, a move that’s expected to drive a...\n",
      "\n",
      "Title: Apple (AAPL)’s AI Ambitions: Loop’s ‘Buy’ Rating and the Future of Apple Intelligence\n",
      "Description: None\n",
      "\n",
      "Title: Is Apple Inc. (AAPL) Dominating A Billionaire Quant’s Investment Strategy Right Now?\n",
      "Description: None\n",
      "\n",
      "Title: Is Apple Inc. (AAPL) Still a Key Fixture in Warren Buffett’s Portfolio?\n",
      "Description: None\n",
      "\n",
      "Title: Why Is Apple Inc. (AAPL) Among Halvorsen’s Top Stock Picks Right Now?\n",
      "Description: We recently compiled a list of Norwegian Billionaire Halvorsen’s Top 10 Stock Picks. In this article, we are going to take a look at where Apple Inc...\n",
      "\n",
      "Title: Jim Cramer Says ‘Just Own’ Apple (AAPL) Stock Amid Elongated iPhone Upgrade Cycle\n",
      "Description: None\n",
      "\n",
      "Title: Processing JDBC ResultSet with Stream API\n",
      "Description: Java’s Stream API, introduced in Java 8, is an incredibly powerful tool for handling collections of data in a functional style. However, when working with JDBC, which relies on ResultSet to retrieve database query results, directly integrating the Stream API …\n",
      "\n",
      "Title: Open-interpreter: A natural language interface for computers\n",
      "Description: A natural language interface for computers. Contribute to OpenInterpreter/open-interpreter development by creating an account on GitHub.\n",
      "\n",
      "Title: Apple Inc. (AAPL) Delays Smart Display HomePod Launch to 2025, Set to Feature Apple Intelligence Integration\n",
      "Description: None\n",
      "\n",
      "Title: Will Apple Intelligence Kickstart A New Era Of Growth For Apple (AAPL)?\n",
      "Description: None\n",
      "\n",
      "Title: Why Is Apple Inc. (AAPL) Among the Best Tech Stocks for Long Term Investment?\n",
      "Description: None\n",
      "\n",
      "Title: Today is National Shopping Reminder Day. Get ahead of the holiday chaos\n",
      "Description: The holiday season is here, and for many shoppers, that means gifts are still on the to-do list before the last-minute rush sets in. Today marks National Shopping Reminder Day, a timely nudge to take action before the 30-day countdown to Christmas begins.Read…\n",
      "\n",
      "Title: Jeff Bezos is betting millions on a Nvidia rival\n",
      "Description: Billionaire Jeff Bezos is throwing his weight behind a computing company that’s coming for Nvidia’s (NVDA) dominance of the artificial intelligence chip market.Read more...\n",
      "\n",
      "Title: The 2 biggest stock market risks in 2025, according to Goldman Sachs\n",
      "Description: As 2024 comes to a close, the U.S. stock market has posted considerable returns on a red-hot rally led by major technology stocks that have benefited from artificial intelligence. But Goldman Sachs (GS) is warning of two major risks that could put a damper on…\n",
      "\n",
      "Title: Donald Trump just picked who will take over Google, Apple, Visa monopoly cases\n",
      "Description: President-elect Donald Trump nominated Gail Slater to lead the antitrust division of the Department of Justice.Read more...\n",
      "\n",
      "Title: Microsoft FTC probe 'not a complete shocker,' analyst says\n",
      "Description: Microsoft stock was lagging behind its tech peers on Friday as investors reacted to news the company is facing a broad inquiry from the FTC.\n",
      "\n",
      "Title: DBS Analyst Downgrades Apple Inc. (AAPL) to ‘Hold’ with $243 Price Target, Citing Valuation and Short-Term Challenges\n",
      "Description: None\n",
      "\n",
      "Title: Apple Inc. (AAPL) Faces Setbacks in China as AI Integration Struggles with Baidu, Impacting iPhone 16 Sales\n",
      "Description: None\n",
      "\n",
      "Title: Apple Inc. (AAPL) to Launch In-House Modem and AI-Powered iPhone SE in 2024, Reducing Reliance on Qualcomm\n",
      "Description: We recently compiled a list of the 10 AI News Taking Wall Street by Storm. In this article, we are going to take a look at where Apple Inc. (NASDAQ:AAPL...\n",
      "\n",
      "Title: Jobs Report: Implications For The Markets And The Fed\n",
      "Description: The solid jobs report had enough cracks to cause the Fed to want some insurance against economic downside risks by cutting rates. The coming CPI report is significant.\n",
      "\n",
      "Title: Bitcoin Crosses Above $101K as XRP, AI Tokens Lead Crypto Rally Following CPI\n",
      "Description: Wednesday morning's in line U.S. inflation data seemingly cleared the way for a Fed rate cut next week.\n",
      "\n",
      "Title: Will Sticky Inflation Stop The Fed Rate Cut?\n",
      "Description: Higher inflation and a resilient economy have some wondering if the Fed will cut rates this week. This week will be full of economic data ahead of the Christmas week.\n",
      "\n",
      "Title: Apple Stock In 2025: A Prediction On Where It's Price May Head\n",
      "Description: Apple stock forecast for 2025: Explore potential price trends, market factors and growth predictions to understand where Apple’s stock may be headed in the near future.\n",
      "\n",
      "Title: Apple shares hit new all-time closing high\n",
      "Description: In Nasdaq trading today, shares of Apple Inc. rose to hit a new all-time closing high. Apple’s all-time intraday high was set on…\n",
      "The post Apple shares hit new all-time closing high appeared first on MacDailyNews.\n",
      "\n",
      "Title: Trump's latest appointment is a boon for Musk's SpaceX — and a hit to Big Tech\n",
      "Description: President-elect Donald Trump said he would appoint Federal Communications Commission (FCC) Commissioner Brendan Carr as chair, delivering another win to ally Elon Musk and a gut punch to Big Tech.Read more...\n",
      "\n",
      "Title: Dr. Oz is Trump's pick to oversee Medicare. He owns healthcare stocks that could benefit\n",
      "Description: President-elect Donald Trump’s pick to oversee the Centers for Medicare and Medicaid Services (CMS) has reported owning as much as $600,000 in stock from companies benefiting from private Medicare services. Read more...\n",
      "\n",
      "Title: DOJ may be ready to break up Google. It needs to convince a judge first.\n",
      "Description: US prosecutors are expected to submit a document Wednesday that could ask for Google's Alphabet parent company to sell off its Chrome browser, among other...\n",
      "\n",
      "Title: Apple shares hit new all-time closing high\n",
      "Description: In Nasdaq trading today, shares of Apple Inc. rose to hit a new all-time closing high. Apple’s all-time intraday high was set…\n",
      "The post Apple shares hit new all-time closing high appeared first on MacDailyNews.\n",
      "\n",
      "Title: Jim Cramer on Apple Inc. (AAPL): ‘I Would Wait For A Dip Because The Bears Are All Over It, Every Minute Of The Day’\n",
      "Description: We recently compiled a list of the Jim Cramer’s Lightning Round: 8 Stocks to Watch. In this article, we are going to take a look at where Apple Inc...\n",
      "\n",
      "Title: 5 Top Stocks To Buy In December 2024\n",
      "Description: Looking for the latest stock opportunities in December 2024? We have you covered. Click to read our top stock picks to consider adding to your portfolio now.\n",
      "\n",
      "Title: Apple shares hit new all-time intraday and closing highs\n",
      "Description: In Nasdaq trading today, shares of Apple Inc. rose to hit a new all-time closing high. Apple’s all-time intraday high was set…\n",
      "The post Apple shares hit new all-time intraday and closing highs appeared first on MacDailyNews.\n",
      "\n",
      "Title: 5 Stock Buys And Sells From Top Billionaire Investors\n",
      "Description: Warren Buffett takes a slice of Domino’s. Ken Griffin, David Tepper and Steve Cohen are shedding  Amazon shares. Here’s what SEC filings reveal about the recent moves of the world’s richest and most successful investors.\n",
      "\n",
      "Title: Nvidia releases earnings: Takeaways from Mag 7 Q3 results\n",
      "Description: Nvidia released its third quarter earnings release, with revenue and earnings beating Wall Street expectations. The chipmaker's results close out the...\n",
      "\n",
      "Title: Apple shares hit new all-time closing high\n",
      "Description: In Nasdaq trading today, shares of Apple Inc. rose to hit a new all-time closing high. Apple’s all-time intraday high was set…\n",
      "The post Apple shares hit new all-time closing high appeared first on MacDailyNews.\n",
      "\n",
      "Title: Apple shares hit new all-time intraday and closing highs\n",
      "Description: In Nasdaq trading today, shares of Apple Inc. rose to hit a new all-time closing high. Apple’s all-time intraday high was set on…\n",
      "The post Apple shares hit new all-time intraday and closing highs appeared first on MacDailyNews.\n",
      "\n",
      "Title: Apple shares hit new all-time intraday and closing highs\n",
      "Description: In Nasdaq trading today, shares of Apple Inc. rose to hit a new all-time closing high. Apple’s all-time intraday high was set…\n",
      "The post Apple shares hit new all-time intraday and closing highs appeared first on MacDailyNews.\n",
      "\n",
      "Title: Apple shares hit new all-time closing high\n",
      "Description: In Nasdaq trading today, shares of Apple Inc. rose to hit a new all-time closing high. Apple’s all-time intraday high was set on…\n",
      "The post Apple shares hit new all-time closing high appeared first on MacDailyNews.\n",
      "\n",
      "Title: Apple shares hit new all-time closing high\n",
      "Description: In Nasdaq trading today, shares of Apple Inc. rose to hit a new all-time closing high. Apple’s all-time intraday high was set on…\n",
      "The post Apple shares hit new all-time closing high appeared first on MacDailyNews.\n",
      "\n",
      "Title: Apple shares hit new all-time intraday high\n",
      "Description: In Nasdaq trading today, shares of Apple Inc. rose to hit a new all-time closing high. Apple’s all-time intraday high…\n",
      "The post Apple shares hit new all-time intraday high appeared first on MacDailyNews.\n",
      "\n",
      "Title: ブラックフライデーセールで7年ぶりにメジャーアップデートされたシステムモニタアプリ「iStat Menus 7」や「Usage」、Markdownエディタ「Archimedes」、「BetterTouchTool」などのMac用アプリが特別価格。\n",
      "Description: ブラックフライデーセールで7年ぶりにメジャーアップデートされたシステムモニタアプリ「iStat Menus v7」や「Usage」、Markdownエディタ「Archimedes」、「BetterTouchTool」な […]\n",
      "The post ブラックフライデーセールで7年ぶりにメジャーアップデートされたシステムモニタアプリ「iStat Menus 7」や「Usage」、Markdownエディタ「Archimedes」、「BetterTouchTool」などのMac用アプリが特別価格。 first appear…\n",
      "\n",
      "Title: Google, Amazon and Apple are racing to get AI on their most popular devices\n",
      "Description: Big Tech wants to put artificial intelligence in your pocket, your palms, and your home.Read more...\n",
      "\n",
      "Title: Remedy Entertainment、Apple Silicon MacやHW-RTをサポートしたアクションアドベンチャーゲーム「Control Ultimate Edition」のプレオーダーをMac App Storeで開始。\n",
      "Description: Remedy EntertainmentがApple Silicon MacやHW-RTをサポートしたアクションアドベンチャーゲーム「Control Ultimate Edition」のプレオーダーをMac App S […]\n",
      "The post Remedy Entertainment、Apple Silicon MacやHW-RTをサポートしたアクションアドベンチャーゲーム「Control Ultimate Edition」のプレオーダーをMac App Storeで開始。 first appeared on …\n",
      "\n",
      "Title: Western Digital、USB4対応のポータブルSSD「SanDisk Extreme PRO」や「WD_BLACK SN7100 NVMe SSD」などを発売。\n",
      "Description: Western DigitalがUSB4対応のポータブルSSD「SanDisk Extreme PRO」や「WD_BLACK SN7100 NVMe SSD」、Xbox用拡張カード「WD_BLACK C50」を発売する […]\n",
      "The post Western Digital、USB4対応のポータブルSSD「SanDisk Extreme PRO」や「WD_BLACK SN7100 NVMe SSD」などを発売。 first appeared on AAPL Ch..\n",
      "\n",
      "Title: How To Earn $500 A Month From Apple Stock\n",
      "Description: Apple Inc. (NASDAQ:AAPL) shares closed slightly higher on Tuesday. Apple is reportedly changing its approach to software updates. The tech giant appears to...\n",
      "\n",
      "Title: Parallels、macOS 15 SequoiaやWindows 11 24H2 VMなどをサポートした「Parallels Desktop for Mac App Store Edition v1.10」をリリース。\n",
      "Description: ParallelsがmacOS 15 SequoiaやWindows 11 24H2仮想マシンなどをサポートした「Parallels Desktop for Mac App Store Edition v1.10」をリ […]\n",
      "The post Parallels、macOS 15 SequoiaやWindows 11 24H2 VMなどをサポートした「Parallels Desktop for Mac App Store Edition v1.10」をリリース。 first appeared on AAPL C…\n",
      "\n",
      "Title: Apple Eyes $1 Billion Investment to Lift Indonesia's iPhone 16 Ban\n",
      "Description: Indonesia Demands $1 Billion from Apple to Resume iPhone 16 Sales\n",
      "\n",
      "Title: Apple Takes Over Apple News Ad Sales, Phases Out Third Parties\n",
      "Description: Apple News now sells ads directly, bypassing third-party suppliers\n",
      "\n",
      "Title: How AI-powered brain chips could become a $400B industry\n",
      "Description: A recent Morgan Stanley report stated that the brain-computer interface (BCI) industry could reach $400B in the US. These AI-fueled chips allow users to...\n",
      "\n",
      "Title: 5 Things to Know Before the Stock Market Opens\n",
      "Description: News of the day for Dec. 10, 2024\n",
      "\n",
      "Title: Ubisoft、アクションアドベンチャーゲーム「プリンス オブ ペルシャ 失われた王冠 (Prince of Persia: Lost Crown)」をMac App Storeで発売。\n",
      "Description: Ubisoftがアクションアドベンチャーゲーム「プリンス オブ ペルシャ 失われた王冠 (Prince of Persia: Lost Crown)」をMac App Storeで発売しています。詳細は以下から。 　フ […]\n",
      "The post Ubisoft、アクションアドベンチャーゲーム「プリンス オブ ペルシャ 失われた王冠 (Prince of Persia: Lost Crown)」をMac App Storeで発売。 first appeared on AAPL Ch..\n",
      "\n",
      "Title: Mac App Store Best of 2015にも選出されたMac用コードスニペットアプリ「SnippetsLab」が無償化。\n",
      "Description: Mac App Store Best of 2015にも選出されたMac用コードスニペットアプリ「SnippetsLab」が無償化されています。詳細は以下から。 　SnippetsLabはRenfei Songさんが開 […]\n",
      "The post Mac App Store Best of 2015にも選出されたMac用コードスニペットアプリ「SnippetsLab」が無償化。 first appeared on AAPL Ch..\n",
      "\n",
      "Title: RayCue、Mac mini (2024)にUSB-A/-CやmicroSD/SDカードリーダー、HDMI、NVMe/SATA SSDを増設できるUSB-Cハブ「RayCue New M4/2024 Mac Mini Hub & Stand」を日本でも発売。\n",
      "Description: RayCueがMac mini (2024)にUSB-A/-CやmicroSD/SDカードリーダー、HDMI、NVMe SSDを増設できるUSB-Cハブ「RayCue New M4/2024 Mac Mini Hub […]\n",
      "The post RayCue、Mac mini (2024)にUSB-A/-CやmicroSD/SDカードリーダー、HDMI、NVMe/SATA SSDを増設できるUSB-Cハブ「RayCue New M4/2024 Mac Mini Hub & Stand」を日本でも発売。 first …\n",
      "\n",
      "Title: Anker Japan、USB-CケーブルとApple Watch用ワイヤレス充電器を一体化したモバイルバッテリー「Anker MagGo Power Bank (10000mAh, 35W, For Apple Watch)」にブラックとピンク、ミントブルーカラーを追加。\n",
      "Description: Anker JapanがUSB-CケーブルとApple Watch用ワイヤレス充電器を一体化したモバイルバッテリー「Anker MagGo Power Bank (10000mAh, 35W, For Apple Wa […]\n",
      "The post Anker Japan、USB-CケーブルとApple Watch用ワイヤレス充電器を一体化したモバイルバッテリー「Anker MagGo Power Bank (10000mAh, 35W, For Apple Watch)」にブラックとピンク、ミントブルーカラーを追加…\n",
      "\n",
      "Title: Amazonのブラックフライデーセールで、SatechiやTwelve SouthなどのiMacやMac mini、MacBook用USBハブやスタンドが特別価格で販売中。\n",
      "Description: Amazonのブラックフライデーセールで、SatechiやTwelve SouthなどのiMacやMac mini、MacBook Air/Pro用USBハブやスタンドが特別価格で販売されています。詳細は以下から。 　 […]\n",
      "The post Amazonのブラックフライデーセールで、SatechiやTwelve SouthなどのiMacやMac mini、MacBook用USBハブやスタンドが特別価格で販売中。 first appeared on AAPL Ch..\n",
      "\n",
      "Title: RayCue、USB-A/-CやHDMIポート、SDカードリーダーなどを搭載したMac mini (2024)用スタンド「RayCue New Type-C Stand & Hub with NVMe/ M.2 SATA SSD」にSSD同梱モデルを追加。\n",
      "Description: RayCueがUSB-A/-CやHDMIポート、SDカードリーダーなどを搭載したMac mini (2024)用スタンド「RayCue New Type-C Stand & Hub with NVMe/ M. […]\n",
      "The post RayCue、USB-A/-CやHDMIポート、SDカードリーダーなどを搭載したMac mini (2024)用スタンド「RayCue New Type-C Stand & Hub with NVMe/ M.2 SATA SSD」にSSD同梱モデルを追加。 first appear…\n",
      "\n",
      "Title: 米Anker、iPhone 15/16 Proシリーズのカメラをキズや汚れから守る「Anker Camera Lens Protector (ShieldX Glass)」を発売。\n",
      "Description: 米AnkerがiPhone 15/16 Proシリーズのカメラをキズや汚れから守る「Anker Camera Lens Protector (ShieldX Glass)」を発売しています。詳細は以下から。 　iPho […]\n",
      "The post 米Anker、iPhone 15/16 Proシリーズのカメラをキズや汚れから守る「Anker Camera Lens Protector (ShieldX Glass)」を発売。 first appeared on AAPL Ch..\n",
      "\n",
      "Title: Today in Apple history: Lousy quarter proves Steve Jobs isn’t invincible\n",
      "Description: On December 6, 2000, Apple Computer's stock price fell dramatically after lousy quarterly results. However, the best was yet to come in 2001.\n",
      "(via Cult of Mac - Apple news, rumors, reviews and how-tos)\n",
      "\n",
      "Title: Sonnet、Mac mini (2024)をデスク下に設置できるブラケット「MacCuff mini (2024+)」や2Uラックマウント「RackMac mini」、Thunderbolt拡張システム「DuoModo Mac mini」などを発表。\n",
      "Description: SonnetがMac mini (2024)をデスク下に設置できるブラケット「MacCuff mini (2024+)」や2Uラックマウント「RackMac mini」、Thunderbolt拡張システム「RackMa […]\n",
      "The post Sonnet、Mac mini (2024)をデスク下に設置できるブラケット「MacCuff mini (2024+)」や2Uラックマウント「RackMac mini」、Thunderbolt拡張システム「DuoModo Mac mini」などを発表。 first app…\n",
      "\n",
      "Title: Microsoft、WordやPowerPoint、ExcelなどOfficeファイルをMarkdownファイルに変換できる「MarkItDown」ライブラリを公開。\n",
      "Description: MicrosoftがWordやPowerPoint、Excel等のファイルをMarkdownに変換できるMarkItDownライブラリを公開しています。詳細は以下から。 　Microsoftは現地時間2024年12月1 […]\n",
      "The post Microsoft、WordやPowerPoint、ExcelなどOfficeファイルをMarkdownファイルに変換できる「MarkItDown」ライブラリを公開。 first appeared on AAPL Ch..\n",
      "\n",
      "Title: Ultima Security、Mac mini (2024)を盗難から防ぎ電源ボタンも押しやすいVESA対応のセキュリティーマウント「Security Mount for Mac Mini M4 (2024)」を発売。\n",
      "Description: Ultima SecurityがMac mini (2024)を盗難から防ぎ電源ボタンも押しやすいVESA対応のセキュリティーマウント「Security Mount for Mac Mini M4 (2024)」を発売 […]\n",
      "The post Ultima Security、Mac mini (2024)を盗難から防ぎ電源ボタンも押しやすいVESA対応のセキュリティーマウント「Security Mount for Mac Mini M4 (2024)」を発売。 first appeared on AAPL Ch…\n",
      "\n",
      "Title: Parallels、Windows 11 24H2仮想マシンでスクロールが遅くなる不具合を修正した「Parallels Desktop 20 for Mac v20.1.2」をリリース。\n",
      "Description: ParallelsがWindows 11 24H2仮想マシンでスクロールが遅くなる不具合を修正した「Parallels Desktop 20 for Mac v20.1.2」をリリースしています。詳細は以下から。 　A […]\n",
      "The post Parallels、Windows 11 24H2仮想マシンでスクロールが遅くなる不具合を修正した「Parallels Desktop 20 for Mac v20.1.2」をリリース。 first appeared on AAPL Ch..\n",
      "\n",
      "Title: MacやWindows、UVC対応のiPadで1080p60fpsのゲームキャプチャが可能なHDMIキャプチャーデバイス「Genki ShadowCast 2」が日本でも発売開始。\n",
      "Description: MacやWindows、UVC対応のiPadで1080p60fpsのゲームキャプチャが可能なHDMIキャプチャーデバイス「Genki ShadowCast 2/Pro」が日本でも発売開始しています。詳細は以下から。 　 […]\n",
      "The post MacやWindows、UVC対応のiPadで1080p60fpsのゲームキャプチャが可能なHDMIキャプチャーデバイス「Genki ShadowCast 2」が日本でも発売開始。 first appeared on AAPL Ch..\n",
      "\n",
      "Title: Apple、2024 App Store Awardsのファイナリストを発表。MacアプリではAdobe LightroomやOmniFocus 4、フロストパンク2、Strayなどが選出。\n",
      "Description: Appleが2024 App Store Awardsのファイナリストを発表し、MacアプリではAdobe LightroomやOmniFocus 4、フロストパンク2、Strayなどが選出されています。詳細は以下から […]\n",
      "The post Apple、2024 App Store Awardsのファイナリストを発表。MacアプリではAdobe LightroomやOmniFocus 4、フロストパンク2、Strayなどが選出。 first appeared on AAPL Ch..\n",
      "\n",
      "Title: Apple、複数の脆弱性を修正した「macOS 13.7.2 Ventura」や「macOS 14.7.2 Sonoma」、「Safari 18.2」をリリース。\n",
      "Description: Appleが複数の脆弱性を修正した「macOS 13.7.2 Ventura」や「macOS 14.7.2 Sonoma」、「Safari 18.2」をリリースしています。詳細は以下から。 　Appleは現地時間202 […]\n",
      "The post Apple、複数の脆弱性を修正した「macOS 13.7.2 Ventura」や「macOS 14.7.2 Sonoma」、「Safari 18.2」をリリース。 first appeared on AAPL Ch..\n",
      "\n",
      "Title: Apple、開発者向けにmacOS Sequoia 15.2やiOS/iPadOS 18.2、visionOS 2.2などのRC版を公開。\n",
      "Description: Appleが開発者向けにmacOS Sequoia 15.2やiOS/iPadOS 18.2、visionOS 2.2のRC版を公開しています。詳細は以下から。 　Appleは現地時間2024年12月05日、開発者向け […]\n",
      "The post Apple、開発者向けにmacOS Sequoia 15.2やiOS/iPadOS 18.2、visionOS 2.2などのRC版を公開。 first appeared on AAPL Ch..\n",
      "\n",
      "Title: 米SABRENT、Apple M4/M4 Proを搭載したMac mini (2024)ベースモデルのSSDより高パフォーマンスなThunderbolt 5対応のポータブルSSD「Rocket XTRM 5」のプレオーダーを開始。\n",
      "Description: 米SABRENTがApple M4/M4 Proを搭載したMac mini (2024)ベースモデルのSSDより高パフォーマンスなThunderbolt 5対応のSSD「Rocket XTRM 5」のプレオーダーを開始 […]\n",
      "The post 米SABRENT、Apple M4/M4 Proを搭載したMac mini (2024)ベースモデルのSSDより高パフォーマンスなThunderbolt 5対応のポータブルSSD「Rocket XTRM 5」のプレオーダーを開始。 first appeared on AA…\n",
      "\n",
      "Title: Apple、macOS 13 VenturaとmacOS 14 Sonoma向けに2件のゼロデイ脆弱性を修正した「Safari v18.1.1」をリリース。\n",
      "Description: AppleがmacOS 13 VenturaとmacOS 14 Sonoma向けに2件のゼロデイ脆弱性を修正した「Safari v18.1.1」をリリースしています。詳細は以下から。 　Appleは現地時間2024年1 […]\n",
      "The post Apple、macOS 13 VenturaとmacOS 14 Sonoma向けに2件のゼロデイ脆弱性を修正した「Safari v18.1.1」をリリース。 first appeared on AAPL Ch..\n",
      "\n",
      "Title: MacBookやiPhone、iPadのバッテリー情報を表示/記録してくれるMacアプリ「coconutBattery v4.0」がリリース。\n",
      "Description: MacBookやiPhone、iPadのバッテリー充電情報を表示/記録してくれるMacアプリ「coconutBattery v4.0」がリリースされています。詳細は以下から。 　coconutBatteryシリーズはド […]\n",
      "The post MacBookやiPhone、iPadのバッテリー情報を表示/記録してくれるMacアプリ「coconutBattery v4.0」がリリース。 first appeared on AAPL Ch..\n",
      "\n"
     ]
    }
   ],
   "source": [
    "# get news article\n",
    "from newsapi import NewsApiClient\n",
    "\n",
    "newsapi = NewsApiClient(api_key='ba18150f8ca348cb93451204ad5a1a72')\n",
    "\n",
    "articles = newsapi.get_everything(q='AAPL', language='en', sort_by='relevancy')\n",
    "\n",
    "for article in articles['articles']:\n",
    "    print(f\"Title: {article['title']}\")\n",
    "    print(f\"Description: {article['description']}\")\n",
    "    print()"
   ]
  },
  {
   "cell_type": "code",
   "execution_count": 9,
   "metadata": {},
   "outputs": [
    {
     "name": "stdout",
     "output_type": "stream",
     "text": [
      "Headline: Apple reports profits\n",
      "Sentiment Score: {'neg': 0.0, 'neu': 0.408, 'pos': 0.592, 'compound': 0.4404}\n",
      "\n",
      "Headline: Apple stock drops due to market conditions\n",
      "Sentiment Score: {'neg': 0.0, 'neu': 1.0, 'pos': 0.0, 'compound': 0.0}\n",
      "\n",
      "Headline: AAPL invests in renewable energy\n",
      "Sentiment Score: {'neg': 0.0, 'neu': 0.656, 'pos': 0.344, 'compound': 0.2732}\n",
      "\n",
      "Headline: New AAPL CEO announced\n",
      "Sentiment Score: {'neg': 0.0, 'neu': 1.0, 'pos': 0.0, 'compound': 0.0}\n",
      "\n",
      "Headline: AAPL faces regulatory scrutiny\n",
      "Sentiment Score: {'neg': 0.0, 'neu': 1.0, 'pos': 0.0, 'compound': 0.0}\n",
      "\n",
      "Headline: AAPL rumored to acquire a tech startup\n",
      "Sentiment Score: {'neg': 0.0, 'neu': 1.0, 'pos': 0.0, 'compound': 0.0}\n",
      "\n",
      "Headline: AAPL's market share grows\n",
      "Sentiment Score: {'neg': 0.0, 'neu': 0.577, 'pos': 0.423, 'compound': 0.296}\n",
      "\n"
     ]
    }
   ],
   "source": [
    "from vaderSentiment.vaderSentiment import SentimentIntensityAnalyzer\n",
    "\n",
    "analyzer = SentimentIntensityAnalyzer()\n",
    "\n",
    "# sentiment analysis on news headlines using vader\n",
    "headlines = [\n",
    "    \"Apple reports profits\", \n",
    "    \"Apple stock drops due to market conditions\",    \"AAPL invests in renewable energy\",\n",
    "    \"New AAPL CEO announced\",\n",
    "    \"AAPL faces regulatory scrutiny\",\n",
    "    \"AAPL rumored to acquire a tech startup\",\n",
    "    \"AAPL's market share grows\"]\n",
    "\n",
    "# analyze sentiment for each headline\n",
    "for headline in headlines:\n",
    "    sentiment_score = analyzer.polarity_scores(headline)\n",
    "    print(f\"Headline: {headline}\")\n",
    "    print(f\"Sentiment Score: {sentiment_score}\")\n",
    "    print()"
   ]
  },
  {
   "cell_type": "code",
   "execution_count": 10,
   "metadata": {},
   "outputs": [
    {
     "name": "stdout",
     "output_type": "stream",
     "text": [
      "Headline: Apple reports profits\n",
      "Sentiment: 0.0\n",
      "\n",
      "Headline: Apple stock drops due to market conditions\n",
      "Sentiment: -0.125\n",
      "\n",
      "Headline: AAPL invests in renewable energy\n",
      "Sentiment: 0.0\n",
      "\n",
      "Headline: New AAPL CEO announced\n",
      "Sentiment: 0.13636363636363635\n",
      "\n",
      "Headline: AAPL faces regulatory scrutiny\n",
      "Sentiment: 0.0\n",
      "\n",
      "Headline: AAPL rumored to acquire a tech startup\n",
      "Sentiment: 0.0\n",
      "\n",
      "Headline: AAPL's market share grows\n",
      "Sentiment: 0.0\n",
      "\n"
     ]
    }
   ],
   "source": [
    "from textblob import TextBlob\n",
    "\n",
    "# sentiment analysis on news headlines using textblob\n",
    "headlines = [\n",
    "    \"Apple reports profits\", \n",
    "    \"Apple stock drops due to market conditions\",    \"AAPL invests in renewable energy\",\n",
    "    \"New AAPL CEO announced\",\n",
    "    \"AAPL faces regulatory scrutiny\",\n",
    "    \"AAPL rumored to acquire a tech startup\",\n",
    "    \"AAPL's market share grows\"]\n",
    "\n",
    "for headline in headlines:\n",
    "    blob = TextBlob(headline)\n",
    "    sentiment = blob.sentiment.polarity\n",
    "    print(f\"Headline: {headline}\")\n",
    "    print(f\"Sentiment: {sentiment}\")\n",
    "    print()"
   ]
  },
  {
   "cell_type": "code",
   "execution_count": 11,
   "metadata": {},
   "outputs": [
    {
     "name": "stdout",
     "output_type": "stream",
     "text": [
      "         date  sentiment_score       Date\n",
      "0  2024-12-14              0.2 2024-12-14\n",
      "1  2024-12-15             -0.1 2024-12-15\n",
      "2  2024-12-16              0.5 2024-12-16\n"
     ]
    }
   ],
   "source": [
    "# aggregate sentiment data over a period \n",
    "import pandas as pd\n",
    "\n",
    "sentiment_data = pd.DataFrame({\n",
    "    'date':['2024-12-14', '2024-12-15','2024-12-16'],\n",
    "    'sentiment_score': [0.2, -0.1, 0.5]\n",
    "})\n",
    "\n",
    "sentiment_data['Date'] = pd.to_datetime(sentiment_data['date'])\n",
    "print(sentiment_data)"
   ]
  },
  {
   "cell_type": "code",
   "execution_count": 17,
   "metadata": {},
   "outputs": [
    {
     "name": "stdout",
     "output_type": "stream",
     "text": [
      "RangeIndex(start=0, stop=251, step=1)\n",
      "RangeIndex(start=0, stop=3, step=1)\n"
     ]
    }
   ],
   "source": [
    "print(stock_data.index)  # Check stock_data index\n",
    "print(sentiment_data.index)  # Check sentiment_data index"
   ]
  },
  {
   "cell_type": "code",
   "execution_count": null,
   "metadata": {},
   "outputs": [
    {
     "data": {
      "image/png": "[encoded data removed]",
      "text/plain": [
       "<Figure size 1200x600 with 1 Axes>"
      ]
     },
     "metadata": {},
     "output_type": "display_data"
    }
   ],
   "source": [
    "import matplotlib.pyplot as plt\n",
    "\n",
    "# Plot stock price and sentiment score\n",
    "plt.figure(figsize=(12, 6))\n",
    "\n",
    "plt.subplot(2, 1, 1)\n",
    "plt.plot(stock_data['Close'], label='Stock Price', color='blue')\n",
    "plt.title('Stock Price Over Time')\n",
    "plt.legend()\n",
    "\n",
    "plt.tight_layout()\n",
    "plt.show()\n",
    "\n",
    "\n"
   ]
  },
  {
   "cell_type": "code",
   "execution_count": 24,
   "metadata": {},
   "outputs": [
    {
     "name": "stderr",
     "output_type": "stream",
     "text": [
      "[*********************100%***********************]  1 of 1 completed\n"
     ]
    },
    {
     "data": {
      "text/html": [
       "<div>\n",
       "<style scoped>\n",
       "    .dataframe tbody tr th:only-of-type {\n",
       "        vertical-align: middle;\n",
       "    }\n",
       "\n",
       "    .dataframe tbody tr th {\n",
       "        vertical-align: top;\n",
       "    }\n",
       "\n",
       "    .dataframe thead th {\n",
       "        text-align: right;\n",
       "    }\n",
       "</style>\n",
       "<table border=\"1\" class=\"dataframe\">\n",
       "  <thead>\n",
       "    <tr style=\"text-align: right;\">\n",
       "      <th></th>\n",
       "      <th>AAPL</th>\n",
       "    </tr>\n",
       "    <tr>\n",
       "      <th>Date</th>\n",
       "      <th></th>\n",
       "    </tr>\n",
       "  </thead>\n",
       "  <tbody>\n",
       "    <tr>\n",
       "      <th>2020-01-02</th>\n",
       "      <td>75.087502</td>\n",
       "    </tr>\n",
       "    <tr>\n",
       "      <th>2020-01-03</th>\n",
       "      <td>74.357498</td>\n",
       "    </tr>\n",
       "    <tr>\n",
       "      <th>2020-01-06</th>\n",
       "      <td>74.949997</td>\n",
       "    </tr>\n",
       "    <tr>\n",
       "      <th>2020-01-07</th>\n",
       "      <td>74.597504</td>\n",
       "    </tr>\n",
       "    <tr>\n",
       "      <th>2020-01-08</th>\n",
       "      <td>75.797501</td>\n",
       "    </tr>\n",
       "  </tbody>\n",
       "</table>\n",
       "</div>"
      ],
      "text/plain": [
       "                 AAPL\n",
       "Date                 \n",
       "2020-01-02  75.087502\n",
       "2020-01-03  74.357498\n",
       "2020-01-06  74.949997\n",
       "2020-01-07  74.597504\n",
       "2020-01-08  75.797501"
      ]
     },
     "execution_count": 24,
     "metadata": {},
     "output_type": "execute_result"
    }
   ],
   "source": [
    "import yfinance as yf\n",
    "import pandas as pd\n",
    "import numpy as np\n",
    "from textblob import TextBlob\n",
    "\n",
    "# Define the ticker and the time period\n",
    "ticker = 'AAPL'\n",
    "start_date = '2020-01-01'\n",
    "end_date = '2023-01-01'\n",
    "\n",
    "# Fetch the stock data\n",
    "aapl_data = yf.download(ticker, start=start_date, end=end_date)\n",
    "# Create a DataFrame with dates from the AAPL data\n",
    "dates = aapl_data.index\n",
    "text_data = pd.DataFrame(dates, columns=['Date'])\n",
    "# Aligning sentiment scores with the stock closing prices on the same date\n",
    "combined_data = text_data.set_index('Date').join(aapl_data['Close'])\n",
    "combined_data.head()"
   ]
  },
  {
   "cell_type": "code",
   "execution_count": 30,
   "metadata": {},
   "outputs": [
    {
     "name": "stdout",
     "output_type": "stream",
     "text": [
      "Date             object\n",
      "Open            float64\n",
      "High            float64\n",
      "Low             float64\n",
      "Close           float64\n",
      "Adj Close       float64\n",
      "Volume            int64\n",
      "Dividends       float64\n",
      "Stock Splits    float64\n",
      "dtype: object\n",
      "                  Open      High       Low     Close  Adj Close    Volume  \\\n",
      "Open          1.000000  0.999945  0.999941  0.999873   0.999667 -0.254604   \n",
      "High          0.999945  1.000000  0.999925  0.999941   0.999734 -0.254235   \n",
      "Low           0.999941  0.999925  1.000000  0.999942   0.999743 -0.255200   \n",
      "Close         0.999873  0.999941  0.999942  1.000000   0.999796 -0.254733   \n",
      "Adj Close     0.999667  0.999734  0.999743  0.999796   1.000000 -0.256273   \n",
      "Volume       -0.254604 -0.254235 -0.255200 -0.254733  -0.256273  1.000000   \n",
      "Dividends     0.094703  0.094312  0.094550  0.094528   0.093855 -0.034727   \n",
      "Stock Splits  0.007069  0.007273  0.007041  0.007242   0.006890  0.001865   \n",
      "\n",
      "              Dividends  Stock Splits  \n",
      "Open           0.094703      0.007069  \n",
      "High           0.094312      0.007273  \n",
      "Low            0.094550      0.007041  \n",
      "Close          0.094528      0.007242  \n",
      "Adj Close      0.093855      0.006890  \n",
      "Volume        -0.034727      0.001865  \n",
      "Dividends      1.000000     -0.001183  \n",
      "Stock Splits  -0.001183      1.000000  \n"
     ]
    }
   ],
   "source": [
    "import pandas as pd\n",
    "\n",
    "# Load the data\n",
    "data = pd.read_csv('AAPL_historical_data.csv')\n",
    "\n",
    "# Check data types\n",
    "print(data.dtypes)\n",
    "\n",
    "# Handle non-numeric entries in numeric columns\n",
    "numeric_columns = data.select_dtypes(include=['float64', 'int64']).columns\n",
    "data[numeric_columns] = data[numeric_columns].apply(pd.to_numeric, errors='coerce')\n",
    "\n",
    "# Drop rows with NaN values\n",
    "data = data.dropna()\n",
    "\n",
    "# Select numeric columns for correlation analysis\n",
    "numeric_data = data.select_dtypes(include=['float64', 'int64'])\n",
    "\n",
    "# Calculate correlation matrix\n",
    "correlation_matrix = numeric_data.corr()\n",
    "print(correlation_matrix)\n"
   ]
  },
  {
   "cell_type": "code",
   "execution_count": 31,
   "metadata": {},
   "outputs": [
    {
     "data": {
      "image/png": "[encoded data removed]",
      "text/plain": [
       "<Figure size 640x480 with 2 Axes>"
      ]
     },
     "metadata": {},
     "output_type": "display_data"
    }
   ],
   "source": [
    "import seaborn as sns\n",
    "import matplotlib.pyplot as plt\n",
    "\n",
    "sns.heatmap(correlation_matrix, annot=True, cmap='coolwarm', fmt=\".2f\")\n",
    "plt.title(\"Correlation Matrix\")\n",
    "plt.show()"
   ]
  },
  {
   "cell_type": "code",
   "execution_count": 32,
   "metadata": {},
   "outputs": [
    {
     "name": "stdout",
     "output_type": "stream",
     "text": [
      "            Open      High       Low     Close    Volume\n",
      "Open    1.000000  0.999945  0.999941  0.999873 -0.254604\n",
      "High    0.999945  1.000000  0.999925  0.999941 -0.254235\n",
      "Low     0.999941  0.999925  1.000000  0.999942 -0.255200\n",
      "Close   0.999873  0.999941  0.999942  1.000000 -0.254733\n",
      "Volume -0.254604 -0.254235 -0.255200 -0.254733  1.000000\n"
     ]
    }
   ],
   "source": [
    "import pandas as pd \n",
    "\n",
    "data = pd.read_csv('AAPL_historical_data.csv')\n",
    "\n",
    "# calculate correlation matrix\n",
    "correlation_matrix = data[['Open', 'High', 'Low', 'Close', 'Volume']].corr()\n",
    "\n",
    "print(correlation_matrix)"
   ]
  },
  {
   "cell_type": "code",
   "execution_count": 33,
   "metadata": {},
   "outputs": [
    {
     "data": {
      "image/png": "[encoded data removed]",
      "text/plain": [
       "<Figure size 640x480 with 2 Axes>"
      ]
     },
     "metadata": {},
     "output_type": "display_data"
    }
   ],
   "source": [
    "# display matrix\n",
    "sns.heatmap(correlation_matrix, annot=True, cmap='coolwarm', fmt=\".2f\")\n",
    "plt.title(\"Stock data correlation matrix\")\n",
    "plt.show()"
   ]
  },
  {
   "cell_type": "code",
   "execution_count": null,
   "metadata": {},
   "outputs": [],
   "source": []
  }
 ],
 "metadata": {
  "kernelspec": {
   "display_name": "venv",
   "language": "python",
   "name": "python3"
  },
  "language_info": {
   "codemirror_mode": {
    "name": "ipython",
    "version": 3
   },
   "file_extension": ".py",
   "mimetype": "text/x-python",
   "name": "python",
   "nbconvert_exporter": "python",
   "pygments_lexer": "ipython3",
   "version": "3.12.3"
  }
 },
 "nbformat": 4,
 "nbformat_minor": 2
}
